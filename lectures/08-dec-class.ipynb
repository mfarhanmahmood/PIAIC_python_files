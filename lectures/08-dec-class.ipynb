{
 "cells": [
  {
   "cell_type": "markdown",
   "metadata": {},
   "source": [
    "Create an example file for List's pre-defined methods\n",
    "\n",
    "# LIST DATA TYPE\n",
    "---\n",
    "A data structure to store data"
   ]
  },
  {
   "cell_type": "code",
   "execution_count": 4,
   "metadata": {},
   "outputs": [
    {
     "data": {
      "text/plain": [
       "['__add__',\n",
       " '__class__',\n",
       " '__contains__',\n",
       " '__delattr__',\n",
       " '__delitem__',\n",
       " '__dir__',\n",
       " '__doc__',\n",
       " '__eq__',\n",
       " '__format__',\n",
       " '__ge__',\n",
       " '__getattribute__',\n",
       " '__getitem__',\n",
       " '__gt__',\n",
       " '__hash__',\n",
       " '__iadd__',\n",
       " '__imul__',\n",
       " '__init__',\n",
       " '__init_subclass__',\n",
       " '__iter__',\n",
       " '__le__',\n",
       " '__len__',\n",
       " '__lt__',\n",
       " '__mul__',\n",
       " '__ne__',\n",
       " '__new__',\n",
       " '__reduce__',\n",
       " '__reduce_ex__',\n",
       " '__repr__',\n",
       " '__reversed__',\n",
       " '__rmul__',\n",
       " '__setattr__',\n",
       " '__setitem__',\n",
       " '__sizeof__',\n",
       " '__str__',\n",
       " '__subclasshook__',\n",
       " 'append',\n",
       " 'clear',\n",
       " 'copy',\n",
       " 'count',\n",
       " 'extend',\n",
       " 'index',\n",
       " 'insert',\n",
       " 'pop',\n",
       " 'remove',\n",
       " 'reverse',\n",
       " 'sort']"
      ]
     },
     "execution_count": 4,
     "metadata": {},
     "output_type": "execute_result"
    }
   ],
   "source": [
    "names = ['A', 'B', 'C']\n",
    "dir(names)"
   ]
  },
  {
   "cell_type": "markdown",
   "metadata": {},
   "source": [
    "## list.append(data)\n",
    "---\n",
    "A function to append data at the end of the list."
   ]
  },
  {
   "cell_type": "code",
   "execution_count": 2,
   "metadata": {},
   "outputs": [
    {
     "name": "stdout",
     "output_type": "stream",
     "text": [
      "['A', 'B', 'C', 'D', 'E']\n"
     ]
    }
   ],
   "source": [
    "names = ['A', 'B', 'C', 'D']\n",
    "names.append('E')\n",
    "print(names)"
   ]
  },
  {
   "cell_type": "markdown",
   "metadata": {},
   "source": [
    "## list.clear()\n",
    "---\n",
    "This function clears all values from the list."
   ]
  },
  {
   "cell_type": "code",
   "execution_count": 3,
   "metadata": {},
   "outputs": [
    {
     "name": "stdout",
     "output_type": "stream",
     "text": [
      "['A', 'B', 'C', 'D']\n",
      "After clear:  []\n"
     ]
    }
   ],
   "source": [
    "names = ['A', 'B', 'C', 'D']\n",
    "print(names)\n",
    "names.clear()\n",
    "print(\"After clear: \", names)"
   ]
  },
  {
   "cell_type": "markdown",
   "metadata": {},
   "source": [
    "## list.copy()\n",
    "---\n",
    "Returns a Deep copy of the list values"
   ]
  },
  {
   "cell_type": "code",
   "execution_count": 10,
   "metadata": {},
   "outputs": [
    {
     "name": "stdout",
     "output_type": "stream",
     "text": [
      "Names variable:  ['A', 'B', 'C', 'D', 'E', 'F'] \n",
      "New names varibale:  ['A', 'B', 'C', 'D', 'F']\n"
     ]
    }
   ],
   "source": [
    "names = ['A', 'B', 'C', 'D']\n",
    "shallow_copy_of_names = names\n",
    "new_names = names.copy()\n",
    "\n",
    "names.append(\"E\") # Change both the names and shallow_copy_of_names\n",
    "shallow_copy_of_names.append(\"F\") # Change both the names and shallow_copy_of_names\n",
    "new_names.append(\"F\") # Changes only the new_names variable\n",
    "\n",
    "print(\"Names variable: \", names, \"\\nNew names varibale: \", new_names)"
   ]
  },
  {
   "cell_type": "markdown",
   "metadata": {},
   "source": [
    "## list.count(value)\n",
    "---\n",
    "Return the number of time a value appears in the list"
   ]
  },
  {
   "cell_type": "code",
   "execution_count": 13,
   "metadata": {},
   "outputs": [
    {
     "name": "stdout",
     "output_type": "stream",
     "text": [
      "5\n"
     ]
    }
   ],
   "source": [
    "names = [\"A\", \"A\", \"A\", \"A\", \"A\", \"a\", \"D\", \"D\", \"F\"]\n",
    "print(names.count(\"A\"))"
   ]
  },
  {
   "cell_type": "markdown",
   "metadata": {},
   "source": [
    "## list.extend(list)\n",
    "---\n",
    "Adds all the values from one list to another"
   ]
  },
  {
   "cell_type": "code",
   "execution_count": 14,
   "metadata": {},
   "outputs": [
    {
     "name": "stdout",
     "output_type": "stream",
     "text": [
      "Before extend: \n",
      "List 1:  ['A', 'B', 'C'] \n",
      "List 2:  ['D', 'E', 'F']\n",
      "After extend: \n",
      "List 1:  ['A', 'B', 'C', 'D', 'E', 'F'] \n",
      "List 2:  ['D', 'E', 'F']\n"
     ]
    }
   ],
   "source": [
    "list_1 = [\"A\", \"B\", \"C\"]\n",
    "list_2 = [\"D\", \"E\", \"F\"]\n",
    "print(\"Before extend: \\nList 1: \", list_1, \"\\nList 2: \", list_2)\n",
    "list_1.extend(list_2)\n",
    "print(\"After extend: \\nList 1: \", list_1, \"\\nList 2: \", list_2)"
   ]
  },
  {
   "cell_type": "markdown",
   "metadata": {},
   "source": [
    "## list.index(value, index)\n",
    "---\n",
    "Finds the first occurence of the given value"
   ]
  },
  {
   "cell_type": "code",
   "execution_count": 20,
   "metadata": {},
   "outputs": [
    {
     "name": "stdout",
     "output_type": "stream",
     "text": [
      "3\n"
     ]
    }
   ],
   "source": [
    "alphabets = [\"A\", \"B\", \"C\", \"A\", \"D\"]\n",
    "print(alphabets.index(\"A\", 2))"
   ]
  },
  {
   "cell_type": "markdown",
   "metadata": {},
   "source": [
    "## list.insert(index, value)\n",
    "---\n",
    "Add the value at the given index"
   ]
  },
  {
   "cell_type": "code",
   "execution_count": 30,
   "metadata": {},
   "outputs": [
    {
     "name": "stdout",
     "output_type": "stream",
     "text": [
      "Before any operation:  ['A', 'B', 'D', 'E']\n",
      "After specific index insertion:  ['A', 'B', 'C', 'D', 'E']\n"
     ]
    }
   ],
   "source": [
    "alphabets = [\"A\", \"B\", \"D\", \"E\"]\n",
    "print(\"Before any operation: \", alphabets)\n",
    "\n",
    "alphabets.insert((alphabets.index(\"B\") + 1), \"C\")\n",
    "print(\"After specific index insertion: \", alphabets)"
   ]
  },
  {
   "cell_type": "markdown",
   "metadata": {},
   "source": [
    "## list.pop()\n",
    "---\n",
    "Removes the last element fromt the list and returns it."
   ]
  },
  {
   "cell_type": "code",
   "execution_count": 47,
   "metadata": {},
   "outputs": [
    {
     "name": "stdout",
     "output_type": "stream",
     "text": [
      "Before any operation:  ['A', 'B', 'C', 'D', 'E']\n",
      "After 2 pop operations:  ['A', 'B', 'C'] , \n",
      "Removed Elements:  ['E', 'D']\n"
     ]
    }
   ],
   "source": [
    "alphabets = ['A', 'B', 'C', 'D', 'E']\n",
    "print(\"Before any operation: \", alphabets)\n",
    "removed_elements = []\n",
    "removed_elements.append(alphabets.pop())\n",
    "removed_elements.append(alphabets.pop())\n",
    "print(\"After 2 pop operations: \", alphabets, \", \\nRemoved Elements: \", new_list)"
   ]
  },
  {
   "cell_type": "markdown",
   "metadata": {},
   "source": [
    "## list.remove(vlaue)\n",
    "---\n",
    "Removes the first occurrence of the value"
   ]
  },
  {
   "cell_type": "code",
   "execution_count": 37,
   "metadata": {},
   "outputs": [
    {
     "name": "stdout",
     "output_type": "stream",
     "text": [
      "['A', 'C', 'D', 'E']\n"
     ]
    }
   ],
   "source": [
    "alphabets = ['A', 'B', 'C', 'D', 'E']\n",
    "alphabets.remove('B')\n",
    "print(alphabets)"
   ]
  },
  {
   "cell_type": "markdown",
   "metadata": {},
   "source": [
    "## list.reverse()\n",
    "---\n",
    "Reverses the list values without changing the order"
   ]
  },
  {
   "cell_type": "code",
   "execution_count": 1,
   "metadata": {},
   "outputs": [
    {
     "name": "stdout",
     "output_type": "stream",
     "text": [
      "['E', 'D', 'C', 'Z', 'F', 'B', 'A']\n"
     ]
    }
   ],
   "source": [
    "alphabets = ['A', 'B', 'F', 'Z', 'C', 'D', 'E']\n",
    "alphabets.reverse()\n",
    "print(alphabets)"
   ]
  },
  {
   "cell_type": "markdown",
   "metadata": {},
   "source": [
    "## list.sort(reverse=False)\n",
    "---\n",
    "Sorts the list in ascending order by default, can be changed by setting the reversed argument"
   ]
  },
  {
   "cell_type": "code",
   "execution_count": 45,
   "metadata": {},
   "outputs": [
    {
     "name": "stdout",
     "output_type": "stream",
     "text": [
      "Sorting in descending order:  ['Z', 'F', 'E', 'D', 'C', 'B', 'A']\n",
      "Sorting in ascending order:  ['A', 'B', 'C', 'D', 'E', 'F', 'Z']\n"
     ]
    }
   ],
   "source": [
    "alphabets = ['A', 'B', 'F', 'Z', 'C', 'D', 'E']\n",
    "alphabets.sort(reverse=True)\n",
    "print(\"Sorting in descending order: \", alphabets)\n",
    "alphabets.sort()\n",
    "print(\"Sorting in ascending order: \", alphabets)"
   ]
  },
  {
   "cell_type": "markdown",
   "metadata": {},
   "source": [
    "## list.\\__add\\__(list)\n",
    "---\n",
    "Returns the union of two lists"
   ]
  },
  {
   "cell_type": "code",
   "execution_count": 5,
   "metadata": {},
   "outputs": [
    {
     "data": {
      "text/plain": [
       "['A', 'B', 'C', 'D', 'E', 'F']"
      ]
     },
     "execution_count": 5,
     "metadata": {},
     "output_type": "execute_result"
    }
   ],
   "source": [
    "alphabets = ['A', 'B', 'C']\n",
    "alphabets_2 = ['D', 'E', 'F']\n",
    "alphabets.__add__(alphabets_2)"
   ]
  },
  {
   "cell_type": "markdown",
   "metadata": {},
   "source": [
    "## list.\\__class\\__()\n",
    "---\n",
    "Returns the class"
   ]
  },
  {
   "cell_type": "code",
   "execution_count": 13,
   "metadata": {},
   "outputs": [
    {
     "name": "stdout",
     "output_type": "stream",
     "text": [
      "Help on class list in module builtins:\n",
      "\n",
      "class list(object)\n",
      " |  list(iterable=(), /)\n",
      " |  \n",
      " |  Built-in mutable sequence.\n",
      " |  \n",
      " |  If no argument is given, the constructor creates a new empty list.\n",
      " |  The argument must be an iterable if specified.\n",
      " |  \n",
      " |  Methods defined here:\n",
      " |  \n",
      " |  __add__(self, value, /)\n",
      " |      Return self+value.\n",
      " |  \n",
      " |  __contains__(self, key, /)\n",
      " |      Return key in self.\n",
      " |  \n",
      " |  __delitem__(self, key, /)\n",
      " |      Delete self[key].\n",
      " |  \n",
      " |  __eq__(self, value, /)\n",
      " |      Return self==value.\n",
      " |  \n",
      " |  __ge__(self, value, /)\n",
      " |      Return self>=value.\n",
      " |  \n",
      " |  __getattribute__(self, name, /)\n",
      " |      Return getattr(self, name).\n",
      " |  \n",
      " |  __getitem__(...)\n",
      " |      x.__getitem__(y) <==> x[y]\n",
      " |  \n",
      " |  __gt__(self, value, /)\n",
      " |      Return self>value.\n",
      " |  \n",
      " |  __iadd__(self, value, /)\n",
      " |      Implement self+=value.\n",
      " |  \n",
      " |  __imul__(self, value, /)\n",
      " |      Implement self*=value.\n",
      " |  \n",
      " |  __init__(self, /, *args, **kwargs)\n",
      " |      Initialize self.  See help(type(self)) for accurate signature.\n",
      " |  \n",
      " |  __iter__(self, /)\n",
      " |      Implement iter(self).\n",
      " |  \n",
      " |  __le__(self, value, /)\n",
      " |      Return self<=value.\n",
      " |  \n",
      " |  __len__(self, /)\n",
      " |      Return len(self).\n",
      " |  \n",
      " |  __lt__(self, value, /)\n",
      " |      Return self<value.\n",
      " |  \n",
      " |  __mul__(self, value, /)\n",
      " |      Return self*value.\n",
      " |  \n",
      " |  __ne__(self, value, /)\n",
      " |      Return self!=value.\n",
      " |  \n",
      " |  __repr__(self, /)\n",
      " |      Return repr(self).\n",
      " |  \n",
      " |  __reversed__(self, /)\n",
      " |      Return a reverse iterator over the list.\n",
      " |  \n",
      " |  __rmul__(self, value, /)\n",
      " |      Return value*self.\n",
      " |  \n",
      " |  __setitem__(self, key, value, /)\n",
      " |      Set self[key] to value.\n",
      " |  \n",
      " |  __sizeof__(self, /)\n",
      " |      Return the size of the list in memory, in bytes.\n",
      " |  \n",
      " |  append(self, object, /)\n",
      " |      Append object to the end of the list.\n",
      " |  \n",
      " |  clear(self, /)\n",
      " |      Remove all items from list.\n",
      " |  \n",
      " |  copy(self, /)\n",
      " |      Return a shallow copy of the list.\n",
      " |  \n",
      " |  count(self, value, /)\n",
      " |      Return number of occurrences of value.\n",
      " |  \n",
      " |  extend(self, iterable, /)\n",
      " |      Extend list by appending elements from the iterable.\n",
      " |  \n",
      " |  index(self, value, start=0, stop=9223372036854775807, /)\n",
      " |      Return first index of value.\n",
      " |      \n",
      " |      Raises ValueError if the value is not present.\n",
      " |  \n",
      " |  insert(self, index, object, /)\n",
      " |      Insert object before index.\n",
      " |  \n",
      " |  pop(self, index=-1, /)\n",
      " |      Remove and return item at index (default last).\n",
      " |      \n",
      " |      Raises IndexError if list is empty or index is out of range.\n",
      " |  \n",
      " |  remove(self, value, /)\n",
      " |      Remove first occurrence of value.\n",
      " |      \n",
      " |      Raises ValueError if the value is not present.\n",
      " |  \n",
      " |  reverse(self, /)\n",
      " |      Reverse *IN PLACE*.\n",
      " |  \n",
      " |  sort(self, /, *, key=None, reverse=False)\n",
      " |      Stable sort *IN PLACE*.\n",
      " |  \n",
      " |  ----------------------------------------------------------------------\n",
      " |  Static methods defined here:\n",
      " |  \n",
      " |  __new__(*args, **kwargs) from builtins.type\n",
      " |      Create and return a new object.  See help(type) for accurate signature.\n",
      " |  \n",
      " |  ----------------------------------------------------------------------\n",
      " |  Data and other attributes defined here:\n",
      " |  \n",
      " |  __hash__ = None\n",
      "\n"
     ]
    }
   ],
   "source": [
    "alphabets = ['A', 'B']\n",
    "help(list)"
   ]
  },
  {
   "cell_type": "markdown",
   "metadata": {},
   "source": [
    "---"
   ]
  },
  {
   "cell_type": "markdown",
   "metadata": {},
   "source": [
    "---"
   ]
  },
  {
   "cell_type": "markdown",
   "metadata": {},
   "source": [
    "# Tuples\n",
    "---\n",
    "Immutable objects\n",
    "\n",
    "---\n",
    "---"
   ]
  },
  {
   "cell_type": "code",
   "execution_count": 14,
   "metadata": {},
   "outputs": [
    {
     "data": {
      "text/plain": [
       "('A', 'B')"
      ]
     },
     "execution_count": 14,
     "metadata": {},
     "output_type": "execute_result"
    }
   ],
   "source": [
    "tuple_obj = ('A', 'B')\n",
    "tuple_obj"
   ]
  },
  {
   "cell_type": "markdown",
   "metadata": {},
   "source": [
    "# Loops (while/for)\n",
    "---"
   ]
  },
  {
   "cell_type": "markdown",
   "metadata": {},
   "source": [
    "## while loop\n",
    "---"
   ]
  },
  {
   "cell_type": "code",
   "execution_count": 17,
   "metadata": {},
   "outputs": [
    {
     "name": "stdout",
     "output_type": "stream",
     "text": [
      "x =  1\n",
      "x =  2\n",
      "x =  3\n",
      "x =  4\n",
      "x =  5\n",
      "x =  6\n",
      "x =  7\n",
      "x =  8\n",
      "x =  9\n",
      "x =  10\n"
     ]
    }
   ],
   "source": [
    "x = 1\n",
    "while(x <= 10):\n",
    "    print(\"x = \", x)\n",
    "    x += 1\n"
   ]
  },
  {
   "cell_type": "code",
   "execution_count": 21,
   "metadata": {},
   "outputs": [
    {
     "ename": "NameError",
     "evalue": "name 'xrange' is not defined",
     "output_type": "error",
     "traceback": [
      "\u001b[1;31m---------------------------------------------------------------------------\u001b[0m",
      "\u001b[1;31mNameError\u001b[0m                                 Traceback (most recent call last)",
      "\u001b[1;32m<ipython-input-21-9ab4e3a9e5e7>\u001b[0m in \u001b[0;36m<module>\u001b[1;34m\u001b[0m\n\u001b[0;32m      1\u001b[0m \u001b[0mstring\u001b[0m \u001b[1;33m=\u001b[0m \u001b[1;34m\"Y:  \"\u001b[0m\u001b[1;33m\u001b[0m\u001b[1;33m\u001b[0m\u001b[0m\n\u001b[1;32m----> 2\u001b[1;33m \u001b[1;32mfor\u001b[0m \u001b[0my\u001b[0m \u001b[1;32min\u001b[0m \u001b[0mxrange\u001b[0m\u001b[1;33m(\u001b[0m\u001b[1;36m1\u001b[0m\u001b[1;33m,\u001b[0m \u001b[1;36m101\u001b[0m\u001b[1;33m)\u001b[0m\u001b[1;33m:\u001b[0m\u001b[1;33m\u001b[0m\u001b[1;33m\u001b[0m\u001b[0m\n\u001b[0m\u001b[0;32m      3\u001b[0m     \u001b[0mstring\u001b[0m \u001b[1;33m+=\u001b[0m \u001b[0mstr\u001b[0m\u001b[1;33m(\u001b[0m\u001b[0my\u001b[0m\u001b[1;33m)\u001b[0m \u001b[1;33m+\u001b[0m \u001b[1;34m', '\u001b[0m\u001b[1;33m\u001b[0m\u001b[1;33m\u001b[0m\u001b[0m\n\u001b[0;32m      4\u001b[0m \u001b[0mprint\u001b[0m\u001b[1;33m(\u001b[0m\u001b[0mstring\u001b[0m\u001b[1;33m)\u001b[0m\u001b[1;33m\u001b[0m\u001b[1;33m\u001b[0m\u001b[0m\n",
      "\u001b[1;31mNameError\u001b[0m: name 'xrange' is not defined"
     ]
    }
   ],
   "source": [
    "string = \"Y:  \"\n",
    "for y in range(1, 101):\n",
    "    string += str(y) + ', '\n",
    "print(string)"
   ]
  },
  {
   "cell_type": "markdown",
   "metadata": {},
   "source": [
    "### Table of 2"
   ]
  },
  {
   "cell_type": "code",
   "execution_count": 22,
   "metadata": {},
   "outputs": [
    {
     "name": "stdout",
     "output_type": "stream",
     "text": [
      "2 x 1 = 2\n",
      "2 x 2 = 4\n",
      "2 x 3 = 6\n",
      "2 x 4 = 8\n",
      "2 x 5 = 10\n",
      "2 x 6 = 12\n",
      "2 x 7 = 14\n",
      "2 x 8 = 16\n",
      "2 x 9 = 18\n",
      "2 x 10 = 20\n"
     ]
    }
   ],
   "source": [
    "for x in range(1, 11):\n",
    "    print(f\"2 x {x} = {2 * x}\")"
   ]
  },
  {
   "cell_type": "markdown",
   "metadata": {},
   "source": [
    "# Tables"
   ]
  },
  {
   "cell_type": "code",
   "execution_count": 28,
   "metadata": {},
   "outputs": [
    {
     "name": "stdout",
     "output_type": "stream",
     "text": [
      "Enter an integer: 4\n",
      "\n",
      "\n",
      "Table of 2\n",
      "--------\n",
      "2 x 1 = 2\n",
      "2 x 2 = 4\n",
      "2 x 3 = 6\n",
      "2 x 4 = 8\n",
      "2 x 5 = 10\n",
      "2 x 6 = 12\n",
      "2 x 7 = 14\n",
      "2 x 8 = 16\n",
      "2 x 9 = 18\n",
      "2 x 10 = 20\n",
      "\n",
      "\n",
      "\n",
      "\n",
      "\n",
      "Table of 3\n",
      "--------\n",
      "3 x 1 = 3\n",
      "3 x 2 = 6\n",
      "3 x 3 = 9\n",
      "3 x 4 = 12\n",
      "3 x 5 = 15\n",
      "3 x 6 = 18\n",
      "3 x 7 = 21\n",
      "3 x 8 = 24\n",
      "3 x 9 = 27\n",
      "3 x 10 = 30\n",
      "\n",
      "\n",
      "\n",
      "\n",
      "\n",
      "Table of 4\n",
      "--------\n",
      "4 x 1 = 4\n",
      "4 x 2 = 8\n",
      "4 x 3 = 12\n",
      "4 x 4 = 16\n",
      "4 x 5 = 20\n",
      "4 x 6 = 24\n",
      "4 x 7 = 28\n",
      "4 x 8 = 32\n",
      "4 x 9 = 36\n",
      "4 x 10 = 40\n",
      "\n",
      "\n",
      "\n"
     ]
    }
   ],
   "source": [
    "n = int(input(\"Enter an integer: \"))\n",
    "\n",
    "for x in range(2, n + 1):\n",
    "    print(f\"\\n\\nTable of {x}\\n--------\")\n",
    "    for y in range(1, 11):\n",
    "        print(f\"{x} x {y} = {x * y}\")\n",
    "    print('\\n\\n')"
   ]
  },
  {
   "cell_type": "markdown",
   "metadata": {},
   "source": [
    "Tables in one row"
   ]
  },
  {
   "cell_type": "code",
   "execution_count": 2,
   "metadata": {
    "scrolled": true
   },
   "outputs": [
    {
     "name": "stdout",
     "output_type": "stream",
     "text": [
      "Enter an integer: 6\n",
      "Enter range start (sapce) end: 4 25\n",
      "\n",
      "\n",
      "Table of 2\tTable of 3\tTable of 4\tTable of 5\tTable of 6\t\n",
      "\n",
      "2 x 4 = 8\t3 x 4 = 12\t4 x 4 = 16\t5 x 4 = 20\t6 x 4 = 24\t\n",
      "2 x 5 = 10\t3 x 5 = 15\t4 x 5 = 20\t5 x 5 = 25\t6 x 5 = 30\t\n",
      "2 x 6 = 12\t3 x 6 = 18\t4 x 6 = 24\t5 x 6 = 30\t6 x 6 = 36\t\n",
      "2 x 7 = 14\t3 x 7 = 21\t4 x 7 = 28\t5 x 7 = 35\t6 x 7 = 42\t\n",
      "2 x 8 = 16\t3 x 8 = 24\t4 x 8 = 32\t5 x 8 = 40\t6 x 8 = 48\t\n",
      "2 x 9 = 18\t3 x 9 = 27\t4 x 9 = 36\t5 x 9 = 45\t6 x 9 = 54\t\n",
      "2 x 10 = 20\t3 x 10 = 30\t4 x 10 = 40\t5 x 10 = 50\t6 x 10 = 60\t\n",
      "2 x 11 = 22\t3 x 11 = 33\t4 x 11 = 44\t5 x 11 = 55\t6 x 11 = 66\t\n",
      "2 x 12 = 24\t3 x 12 = 36\t4 x 12 = 48\t5 x 12 = 60\t6 x 12 = 72\t\n",
      "2 x 13 = 26\t3 x 13 = 39\t4 x 13 = 52\t5 x 13 = 65\t6 x 13 = 78\t\n",
      "2 x 14 = 28\t3 x 14 = 42\t4 x 14 = 56\t5 x 14 = 70\t6 x 14 = 84\t\n",
      "2 x 15 = 30\t3 x 15 = 45\t4 x 15 = 60\t5 x 15 = 75\t6 x 15 = 90\t\n",
      "2 x 16 = 32\t3 x 16 = 48\t4 x 16 = 64\t5 x 16 = 80\t6 x 16 = 96\t\n",
      "2 x 17 = 34\t3 x 17 = 51\t4 x 17 = 68\t5 x 17 = 85\t6 x 17 = 102\t\n",
      "2 x 18 = 36\t3 x 18 = 54\t4 x 18 = 72\t5 x 18 = 90\t6 x 18 = 108\t\n",
      "2 x 19 = 38\t3 x 19 = 57\t4 x 19 = 76\t5 x 19 = 95\t6 x 19 = 114\t\n",
      "2 x 20 = 40\t3 x 20 = 60\t4 x 20 = 80\t5 x 20 = 100\t6 x 20 = 120\t\n",
      "2 x 21 = 42\t3 x 21 = 63\t4 x 21 = 84\t5 x 21 = 105\t6 x 21 = 126\t\n",
      "2 x 22 = 44\t3 x 22 = 66\t4 x 22 = 88\t5 x 22 = 110\t6 x 22 = 132\t\n",
      "2 x 23 = 46\t3 x 23 = 69\t4 x 23 = 92\t5 x 23 = 115\t6 x 23 = 138\t\n",
      "2 x 24 = 48\t3 x 24 = 72\t4 x 24 = 96\t5 x 24 = 120\t6 x 24 = 144\t\n",
      "2 x 25 = 50\t3 x 25 = 75\t4 x 25 = 100\t5 x 25 = 125\t6 x 25 = 150\t\n",
      "\n"
     ]
    }
   ],
   "source": [
    "n = int(input(\"Enter an integer: \"))\n",
    "table_range = list(map(int, input(\"Enter range start (sapce) end: \").split()))\n",
    "table = \"\"\n",
    "titles = \"\\n\\n\"\n",
    "\n",
    "for y in range(table_range[0], table_range[1] + 1): \n",
    "    for x in range(2, n + 1):\n",
    "        if y == table_range[0]:\n",
    "            titles += f\"Table of {x}\\t\"\n",
    "        table += f\"{x} x {y} = {x * y}\\t\"\n",
    "    table += \"\\n\"\n",
    "titles += \"\\n\\n\"\n",
    "print(titles + table)"
   ]
  }
 ],
 "metadata": {
  "kernelspec": {
   "display_name": "Python 3",
   "language": "python",
   "name": "python3"
  },
  "language_info": {
   "codemirror_mode": {
    "name": "ipython",
    "version": 3
   },
   "file_extension": ".py",
   "mimetype": "text/x-python",
   "name": "python",
   "nbconvert_exporter": "python",
   "pygments_lexer": "ipython3",
   "version": "3.7.3"
  }
 },
 "nbformat": 4,
 "nbformat_minor": 2
}
