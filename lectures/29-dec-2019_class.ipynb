{
 "cells": [
  {
   "cell_type": "markdown",
   "metadata": {},
   "source": [
    "# Function\n",
    "---\n",
    "Grouping a chunck of togather for re-useability"
   ]
  },
  {
   "cell_type": "markdown",
   "metadata": {},
   "source": [
    "# predefined ---set of rules\n",
    "\n",
    "\n",
    "\n",
    "### syntax\n",
    "- def function_name(arguments):\n",
    "-    FunctionBody\n",
    "- user def & pre defined----childs\n",
    "\n",
    "## Sub Childs\n",
    "- argumentrs /parameters /positionals ../default func\n",
    "- function  declaration ,body, calling!\n",
    "- doodh cheeni patti= parameters\n",
    "- chaye bnao--ab execute krna--= Arguments---larka /larki\n",
    "- optional arguments\n",
    "- required arg\n",
    "\n",
    "## RECURSIVE FUNCTIONS\n",
    "- infinite pics reflection\n",
    "- khud apni body mn hi call kry apny apko\n",
    "- \n",
    "\n",
    "## Generater Function\n",
    "- e.g Range\n",
    "- Doesn't allocate new memory\n",
    "- generates different types of data on the fly based on the previous function call\n",
    "- LAST MEMORY KO YAAD RAKHTA HAI\n",
    "\n",
    "## Lambda function\n",
    "- Function does not hv name\n",
    "- Manually be called 1 time\n",
    "- 1 line func\n",
    "- within a line\n",
    "- \n",
    "- key value r positional value sy pas kr sakty\n",
    "\n",
    "## returned Function\n",
    "- jo kuch return kry some kind of data\n"
   ]
  },
  {
   "cell_type": "code",
   "execution_count": 23,
   "metadata": {},
   "outputs": [
    {
     "name": "stdout",
     "output_type": "stream",
     "text": [
      "['1', '2', '3', '4']\n",
      "[1, 2, 3, 4]\n",
      "[1.0, 2.0, 3.0, 4.0]\n",
      "[['1'], ['2'], ['3'], ['4']]\n",
      "[1, 2, 3, 4]\n"
     ]
    }
   ],
   "source": [
    "string = \"1 2 3 4\"\n",
    "print(string.split())\n",
    "print(list(map(int, string.split())))\n",
    "print(list(map(float, string.split())))\n",
    "print(list(map(list, string.split())))\n",
    "print(list(map(lambda i: int(i), string.split())))"
   ]
  },
  {
   "cell_type": "code",
   "execution_count": 24,
   "metadata": {},
   "outputs": [
    {
     "name": "stdout",
     "output_type": "stream",
     "text": [
      "[1, 4, 9, 16]\n",
      "[2, 4]\n"
     ]
    }
   ],
   "source": [
    "def square(a):\n",
    "    return a * a\n",
    "\n",
    "l1 = [1, 2, 3, 4]\n",
    "print(list(map(square, l1)))\n",
    "\n",
    "def reducer(func, _list):\n",
    "    temp = list()\n",
    "    for val in _list:\n",
    "        if (func(val) != None):\n",
    "            temp.append(func(val))\n",
    "    return temp\n",
    "\n",
    "def even(a):\n",
    "    if a % 2 == 0:\n",
    "        return a\n",
    "\n",
    "print(list(reducer(even, l1)))"
   ]
  },
  {
   "cell_type": "markdown",
   "metadata": {},
   "source": [
    "# User Defined\n",
    "---"
   ]
  },
  {
   "cell_type": "code",
   "execution_count": 25,
   "metadata": {},
   "outputs": [
    {
     "name": "stdout",
     "output_type": "stream",
     "text": [
      "Line 1\n",
      "Line 2\n",
      "Line 3\n",
      "Line 1\n",
      "Line 2\n",
      "Line 3\n",
      "Line 1\n",
      "Line 2\n",
      "Line 3\n"
     ]
    }
   ],
   "source": [
    "# Linear programming print 3 lines 3 times\n",
    "print(\"Line 1\")\n",
    "print(\"Line 2\")\n",
    "print(\"Line 3\")\n",
    "\n",
    "print(\"Line 1\")\n",
    "print(\"Line 2\")\n",
    "print(\"Line 3\")\n",
    "\n",
    "print(\"Line 1\")\n",
    "print(\"Line 2\")\n",
    "print(\"Line 3\")"
   ]
  },
  {
   "cell_type": "code",
   "execution_count": 27,
   "metadata": {},
   "outputs": [
    {
     "name": "stdout",
     "output_type": "stream",
     "text": [
      "Line 1\n",
      "Line 2\n",
      "Line 3\n",
      "Line 1\n",
      "Line 2\n",
      "Line 3\n",
      "Line 1\n",
      "Line 2\n",
      "Line 3\n",
      "Line 1\n",
      "Line 2\n",
      "Line 3\n"
     ]
    }
   ],
   "source": [
    "# Functional programming to print 3 lines 3 times\n",
    "\n",
    "def print_3_lines():  #Function declaration\n",
    "    print(\"Line 1\")   # Body start statement 1\n",
    "    print(\"Line 2\")    #statement 2\n",
    "    print(\"Line 3\")    #statement 3\n",
    "    \n",
    "print_3_lines()\n",
    "print_3_lines()\n",
    "print_3_lines()"
   ]
  },
  {
   "cell_type": "markdown",
   "metadata": {},
   "source": [
    "# Dynamic Function\n",
    "---\n",
    "- Arguments valy\n"
   ]
  },
  {
   "cell_type": "code",
   "execution_count": 35,
   "metadata": {},
   "outputs": [
    {
     "name": "stdout",
     "output_type": "stream",
     "text": [
      "\n",
      "    PIAIC ISLAMABAD\n",
      "    Student Id : 1\n",
      "    Name : Waqar\n",
      "    FName : Arshad\n",
      "    course : AI\n",
      "    timing : 12:15 to 3:15\n",
      "    \n",
      "\n",
      "    PIAIC ISLAMABAD\n",
      "    Student Id : 1\n",
      "    Name : Farhan\n",
      "    FName : Farhan\n",
      "    course : Haseeb\n",
      "    timing : Salman\n",
      "    \n",
      "\n",
      "    PIAIC ISLAMABAD\n",
      "    Student Id : 1\n",
      "    Name : Haseeb\n",
      "    FName : Arshad\n",
      "    course : Haseeb\n",
      "    timing : Salman\n",
      "    \n"
     ]
    }
   ],
   "source": [
    "def id_card(sid, sname, fname, course, timing):\n",
    "    print(f\"\"\"\n",
    "    PIAIC ISLAMABAD\n",
    "    Student Id : {sid}\n",
    "    Name : {sname}\n",
    "    FName : {fname}\n",
    "    course : {course}\n",
    "    timing : {timing}\n",
    "    \"\"\")\n",
    "    \n",
    "id_card(1,\"Waqar\", \"Arshad\", \"AI\", \"12:15 to 3:15\")\n",
    "id_card(1,\"Farhan\", \"Farhan\", \"Haseeb\", \"Salman\")\n",
    "id_card(1,\"Haseeb\", \"Arshad\", \"Haseeb\", \"Salman\")"
   ]
  },
  {
   "cell_type": "markdown",
   "metadata": {},
   "source": [
    "# Optional Arguments\n",
    "---\n"
   ]
  },
  {
   "cell_type": "code",
   "execution_count": 37,
   "metadata": {},
   "outputs": [
    {
     "name": "stdout",
     "output_type": "stream",
     "text": [
      "5 0 0\n",
      "5\n"
     ]
    }
   ],
   "source": [
    "def pls(x, y= 0, z=0):\n",
    "    print(x,y,z)\n",
    "    print(x+y+z)\n",
    "pls(5)\n"
   ]
  },
  {
   "cell_type": "code",
   "execution_count": 38,
   "metadata": {},
   "outputs": [
    {
     "name": "stdout",
     "output_type": "stream",
     "text": [
      "6 7 0\n",
      "13\n",
      "8 5 9\n",
      "22\n"
     ]
    },
    {
     "ename": "TypeError",
     "evalue": "pls() missing 1 required positional argument: 'x'",
     "output_type": "error",
     "traceback": [
      "\u001b[1;31m---------------------------------------------------------------------------\u001b[0m",
      "\u001b[1;31mTypeError\u001b[0m                                 Traceback (most recent call last)",
      "\u001b[1;32m<ipython-input-38-b7fe04b3fbd8>\u001b[0m in \u001b[0;36m<module>\u001b[1;34m\u001b[0m\n\u001b[0;32m      1\u001b[0m \u001b[0mpls\u001b[0m\u001b[1;33m(\u001b[0m\u001b[1;36m6\u001b[0m\u001b[1;33m,\u001b[0m\u001b[1;36m7\u001b[0m\u001b[1;33m)\u001b[0m\u001b[1;33m\u001b[0m\u001b[1;33m\u001b[0m\u001b[0m\n\u001b[0;32m      2\u001b[0m \u001b[0mpls\u001b[0m\u001b[1;33m(\u001b[0m\u001b[1;36m8\u001b[0m\u001b[1;33m,\u001b[0m\u001b[1;36m5\u001b[0m\u001b[1;33m,\u001b[0m\u001b[1;36m9\u001b[0m\u001b[1;33m)\u001b[0m\u001b[1;33m\u001b[0m\u001b[1;33m\u001b[0m\u001b[0m\n\u001b[1;32m----> 3\u001b[1;33m \u001b[0mpls\u001b[0m\u001b[1;33m(\u001b[0m\u001b[1;33m)\u001b[0m\u001b[1;33m\u001b[0m\u001b[1;33m\u001b[0m\u001b[0m\n\u001b[0m",
      "\u001b[1;31mTypeError\u001b[0m: pls() missing 1 required positional argument: 'x'"
     ]
    }
   ],
   "source": [
    "pls(6,7)\n",
    "pls(8,5,9)\n",
    "pls()\n",
    "\n",
    "#required arguments miss ni krny mara"
   ]
  },
  {
   "cell_type": "markdown",
   "metadata": {},
   "source": [
    "# Non Return functionms\n",
    "---"
   ]
  },
  {
   "cell_type": "code",
   "execution_count": 39,
   "metadata": {},
   "outputs": [
    {
     "name": "stdout",
     "output_type": "stream",
     "text": [
      "Pak\n",
      "None\n"
     ]
    }
   ],
   "source": [
    "a = print (\"Pak\")\n",
    "\n",
    "print(a)"
   ]
  },
  {
   "cell_type": "code",
   "execution_count": 40,
   "metadata": {},
   "outputs": [
    {
     "name": "stdout",
     "output_type": "stream",
     "text": [
      "5 7 9\n",
      "21\n",
      "None\n"
     ]
    }
   ],
   "source": [
    "b = pls(5,7,9)\n",
    "print(b)"
   ]
  },
  {
   "cell_type": "markdown",
   "metadata": {},
   "source": [
    "# return functions\n",
    "---"
   ]
  },
  {
   "cell_type": "code",
   "execution_count": 41,
   "metadata": {},
   "outputs": [
    {
     "name": "stdout",
     "output_type": "stream",
     "text": [
      "15 15\n"
     ]
    }
   ],
   "source": [
    "def pls(x=0, y=0, z=0):\n",
    "    return x+y+z #ALWAYS RETURN 1ST STATEMENT\n",
    "    return x*y*z\n",
    "    return x+y*z\n",
    "\n",
    "a= pls(7,8)\n",
    "b= pls(8,4,3)\n",
    "\n",
    "print(a,b)"
   ]
  },
  {
   "cell_type": "code",
   "execution_count": 43,
   "metadata": {},
   "outputs": [
    {
     "name": "stdout",
     "output_type": "stream",
     "text": [
      "(15, 0, 7) (15, 96, 20)\n"
     ]
    }
   ],
   "source": [
    "def pls(x=0, y=0, z=0):\n",
    "    return x+y+z ,x*y*z,  x+y*z\n",
    "\n",
    "#MULTIPLE RETURNS KO PACK KRKY TUPLE RETURN KRTA HAI CHAHCHAAA\n",
    "\n",
    "a= pls(7,8)\n",
    "b= pls(8,4,3)\n",
    "\n",
    "print(a,b)"
   ]
  },
  {
   "cell_type": "markdown",
   "metadata": {},
   "source": [
    "# KEYWORD ARGUMENTS\n",
    "---"
   ]
  },
  {
   "cell_type": "code",
   "execution_count": 45,
   "metadata": {},
   "outputs": [
    {
     "name": "stdout",
     "output_type": "stream",
     "text": [
      "\n",
      "    PIAIC ISLAMABAD\n",
      "    Student Id : 1\n",
      "    Name : Waqar\n",
      "    FName : Arshad\n",
      "    course : AI\n",
      "    timing : 12:15 to 3:15\n",
      "    \n"
     ]
    }
   ],
   "source": [
    "def id_card(sid, sname, fname,  course, timing):\n",
    "    print(f\"\"\"\n",
    "    PIAIC ISLAMABAD\n",
    "    Student Id : {sid}\n",
    "    Name : {sname}\n",
    "    FName : {fname}\n",
    "    course : {course}\n",
    "    timing : {timing}\n",
    "    \"\"\")\n",
    "    \n",
    "id_card(sid=1,sname=\"Waqar\",fname= \"Arshad\", course =\"AI\",timing =\"12:15 to 3:15\")\n"
   ]
  },
  {
   "cell_type": "code",
   "execution_count": 46,
   "metadata": {},
   "outputs": [
    {
     "ename": "SyntaxError",
     "evalue": "positional argument follows keyword argument (<ipython-input-46-a116438f228b>, line 11)",
     "output_type": "error",
     "traceback": [
      "\u001b[1;36m  File \u001b[1;32m\"<ipython-input-46-a116438f228b>\"\u001b[1;36m, line \u001b[1;32m11\u001b[0m\n\u001b[1;33m    id_card(1,sname=\"Waqar\",fname= \"Arshad\", course =\"AI\",\"12:15 to 3:15\")\u001b[0m\n\u001b[1;37m                                                         ^\u001b[0m\n\u001b[1;31mSyntaxError\u001b[0m\u001b[1;31m:\u001b[0m positional argument follows keyword argument\n"
     ]
    }
   ],
   "source": [
    "def id_card(sid, sname, fname,  course, timing):\n",
    "    print(f\"\"\"\n",
    "    PIAIC ISLAMABAD\n",
    "    Student Id : {sid}\n",
    "    Name : {sname}\n",
    "    FName : {fname}\n",
    "    course : {course}\n",
    "    timing : {timing}\n",
    "    \"\"\")\n",
    "    \n",
    "id_card(1,sname=\"Waqar\",fname= \"Arshad\", course =\"AI\",\"12:15 to 3:15\")\n"
   ]
  },
  {
   "cell_type": "markdown",
   "metadata": {},
   "source": [
    "# Pass Argument by list\n",
    "---"
   ]
  },
  {
   "cell_type": "code",
   "execution_count": 47,
   "metadata": {},
   "outputs": [
    {
     "name": "stdout",
     "output_type": "stream",
     "text": [
      "\n",
      "    PIAIC ISLAMABAD\n",
      "    Student Id : 81\n",
      "    Name : A1\n",
      "    FName : B1\n",
      "    course : C1\n",
      "    timing : D1\n",
      "    \n"
     ]
    }
   ],
   "source": [
    "def id_card(sid, sname, fname,  course, timing):\n",
    "    print(f\"\"\"\n",
    "    PIAIC ISLAMABAD\n",
    "    Student Id : {sid}\n",
    "    Name : {sname}\n",
    "    FName : {fname}\n",
    "    course : {course}\n",
    "    timing : {timing}\n",
    "    \"\"\")\n",
    "# List Functionalk arg k ,liye r dictionary keyword k liye    \n",
    "l1 = [8, \"A\", \"B\", \"C\", \"D\"]\n",
    "l1 = [81, \"A1\", \"B1\", \"C1\", \"D1\"]\n",
    "\n",
    "id_card(l1[0],l1[1],l1[2],l1[3],l1[4])"
   ]
  },
  {
   "cell_type": "code",
   "execution_count": 51,
   "metadata": {},
   "outputs": [
    {
     "name": "stdout",
     "output_type": "stream",
     "text": [
      "\n",
      "    PIAIC ISLAMABAD\n",
      "    Student Id : 81\n",
      "    Name : A1\n",
      "    FName : B1\n",
      "    course : C1\n",
      "    timing : D1\n",
      "    \n",
      "\n",
      "    PIAIC ISLAMABAD\n",
      "    Student Id : 81\n",
      "    Name : A1\n",
      "    FName : B1\n",
      "    course : C1\n",
      "    timing : D1\n",
      "    \n",
      "81 A1 B1 C1 D1\n",
      "81 A1 B1 C1 D1\n"
     ]
    }
   ],
   "source": [
    "def id_card(sid, sname, fname,  course, timing):\n",
    "    print(f\"\"\"\n",
    "    PIAIC ISLAMABAD\n",
    "    Student Id : {sid}\n",
    "    Name : {sname}\n",
    "    FName : {fname}\n",
    "    course : {course}\n",
    "    timing : {timing}\n",
    "    \"\"\")\n",
    "# List Functionalk arg k ,liye r dictionary keyword k liye    \n",
    "l1 = [8, \"A\", \"B\", \"C\", \"D\"]\n",
    "l1 = [81, \"A1\", \"B1\", \"C1\", \"D1\"]\n",
    "\n",
    "id_card(l1[0],l1[1],l1[2],l1[3],l1[4])\n",
    "id_card(*l1)\n",
    "print(*l1)\n",
    "print(*l1)"
   ]
  },
  {
   "cell_type": "code",
   "execution_count": 53,
   "metadata": {},
   "outputs": [
    {
     "name": "stdout",
     "output_type": "stream",
     "text": [
      "\n",
      "    PIAIC ISLAMABAD\n",
      "    Student Id : 81\n",
      "    Name : A1\n",
      "    FName : B1\n",
      "    course : C1\n",
      "    timing : D1\n",
      "    \n",
      "\n",
      "    PIAIC ISLAMABAD\n",
      "    Student Id : 81\n",
      "    Name : A1\n",
      "    FName : B1\n",
      "    course : C1\n",
      "    timing : D1\n",
      "    \n"
     ]
    }
   ],
   "source": [
    "def id_card(sid, sname, fname,  course, timing):\n",
    "    print(f\"\"\"\n",
    "    PIAIC ISLAMABAD\n",
    "    Student Id : {sid}\n",
    "    Name : {sname}\n",
    "    FName : {fname}\n",
    "    course : {course}\n",
    "    timing : {timing}\n",
    "    \"\"\")\n",
    "# List Functionalk arg k ,liye r dictionary keyword k liye    \n",
    "l1 = [8, \"A\", \"B\", \"C\", \"D\"]\n",
    "l1 = [81, \"A1\", \"B1\", \"C1\", \"D1\"]\n",
    "\n",
    "id_card(l1[0],l1[1],l1[2],l1[3],l1[4])\n",
    "id_card(*l1)\n",
    "#print(**l1)\n",
    "#print(**l1) \n",
    "\n",
    "#** means key value---- dictionary ko Un-Pack"
   ]
  },
  {
   "cell_type": "markdown",
   "metadata": {},
   "source": [
    "# OPTIONAL PARAMETERS WITH LIST\n",
    "---"
   ]
  },
  {
   "cell_type": "code",
   "execution_count": 54,
   "metadata": {},
   "outputs": [
    {
     "ename": "SyntaxError",
     "evalue": "duplicate argument 'n' in function definition (<ipython-input-54-421596aa5631>, line 4)",
     "output_type": "error",
     "traceback": [
      "\u001b[1;36m  File \u001b[1;32m\"<ipython-input-54-421596aa5631>\"\u001b[1;36m, line \u001b[1;32m4\u001b[0m\n\u001b[1;33m    \u001b[0m\n\u001b[1;37m    ^\u001b[0m\n\u001b[1;31mSyntaxError\u001b[0m\u001b[1;31m:\u001b[0m duplicate argument 'n' in function definition\n"
     ]
    }
   ],
   "source": [
    "def abc(n, *n):\n",
    "    print(n)\n",
    "    print(*n)\n",
    "    \n",
    "abc(\"Waqar\",1,2,3,4,5)"
   ]
  },
  {
   "cell_type": "code",
   "execution_count": 57,
   "metadata": {},
   "outputs": [
    {
     "name": "stdout",
     "output_type": "stream",
     "text": [
      "Waqar\n",
      "W a q a r\n",
      "15\n"
     ]
    }
   ],
   "source": [
    "def abc(n, *num):\n",
    "    print(n)\n",
    "    print(*n)\n",
    "    print(sum(num))\n",
    "    \n",
    "abc(\"Waqar\",1,2,3,4,5)"
   ]
  },
  {
   "cell_type": "markdown",
   "metadata": {},
   "source": [
    "# Tuple vala rehta haii"
   ]
  },
  {
   "cell_type": "markdown",
   "metadata": {},
   "source": [
    "# OPTIONAL PARANMETERS WITH DICTIONARY"
   ]
  },
  {
   "cell_type": "code",
   "execution_count": 59,
   "metadata": {},
   "outputs": [
    {
     "name": "stdout",
     "output_type": "stream",
     "text": [
      "Waqar\n",
      "{'a': 'aa', 'b': 'bb', 'c': 'cc'}\n"
     ]
    }
   ],
   "source": [
    "def abc(n, **KV):\n",
    "    print(n)\n",
    "    print(KV)\n",
    " #   print(sum(num))\n",
    "    \n",
    "abc(\"Waqar\", a=\"aa\", b=\"bb\", c= \"cc\")"
   ]
  },
  {
   "cell_type": "code",
   "execution_count": 64,
   "metadata": {},
   "outputs": [
    {
     "name": "stdout",
     "output_type": "stream",
     "text": [
      "Waqar\n",
      "{'a': 'aa', 'b': 'bb', 'c': 'cc'}\n",
      "Pakistan\n"
     ]
    }
   ],
   "source": [
    "def abc(n, **kv):\n",
    "    print(n)\n",
    "    print(kv)\n",
    " #   print(sum(num))\n",
    "    if \"b\" in kv.keys():\n",
    "        print(\"Pakistan\")\n",
    "    \n",
    "abc(\"Waqar\", a=\"aa\", b=\"bb\", c= \"cc\")"
   ]
  },
  {
   "cell_type": "markdown",
   "metadata": {},
   "source": [
    "# RECURSION FUNCTION\n",
    "---"
   ]
  },
  {
   "cell_type": "code",
   "execution_count": 65,
   "metadata": {},
   "outputs": [
    {
     "data": {
      "text/plain": [
       "120"
      ]
     },
     "execution_count": 65,
     "metadata": {},
     "output_type": "execute_result"
    }
   ],
   "source": [
    "def xyz(n):\n",
    "    if n==1:\n",
    "        return 1\n",
    "    \n",
    "    return n * xyz (n-1)\n",
    "\n",
    "xyz(5)\n",
    "\n",
    "#1*2*3*4*5=120\n"
   ]
  },
  {
   "cell_type": "markdown",
   "metadata": {},
   "source": [
    "# GENERATOR FUNCTIONS\n",
    "---"
   ]
  },
  {
   "cell_type": "code",
   "execution_count": 74,
   "metadata": {},
   "outputs": [
    {
     "name": "stdout",
     "output_type": "stream",
     "text": [
      "<generator object my_range at 0x000000E33D170A20>\n",
      "315\n",
      "630\n",
      "945\n",
      "1260\n"
     ]
    },
    {
     "data": {
      "text/plain": [
       "[]"
      ]
     },
     "execution_count": 74,
     "metadata": {},
     "output_type": "execute_result"
    }
   ],
   "source": [
    "def my_range(n):\n",
    "    for i in range(2,n+2):\n",
    "        if(i%5==0 and i%7==0 and i%9==0):\n",
    "            yield i\n",
    "        \n",
    "a = my_range (1500)\n",
    "print(a)\n",
    "print(next(a))\n",
    "print(next(a))\n",
    "print(next(a))\n",
    "print(next(a))\n",
    "\n",
    "\n",
    "list(a)"
   ]
  },
  {
   "cell_type": "markdown",
   "metadata": {},
   "source": [
    "# LAMBDA FUNCTION\n",
    "---"
   ]
  },
  {
   "cell_type": "code",
   "execution_count": 75,
   "metadata": {},
   "outputs": [
    {
     "data": {
      "text/plain": [
       "11"
      ]
     },
     "execution_count": 75,
     "metadata": {},
     "output_type": "execute_result"
    }
   ],
   "source": [
    "def abc(x,y): return x+y\n",
    "\n",
    "abc(5,6)"
   ]
  },
  {
   "cell_type": "code",
   "execution_count": 76,
   "metadata": {},
   "outputs": [
    {
     "data": {
      "text/plain": [
       "20"
      ]
     },
     "execution_count": 76,
     "metadata": {},
     "output_type": "execute_result"
    }
   ],
   "source": [
    "abc = lambda x,y,z: x+y+z\n",
    "\n",
    "abc(5,6,9)"
   ]
  },
  {
   "cell_type": "code",
   "execution_count": 78,
   "metadata": {},
   "outputs": [
    {
     "data": {
      "text/plain": [
       "6"
      ]
     },
     "execution_count": 78,
     "metadata": {},
     "output_type": "execute_result"
    }
   ],
   "source": [
    "abc = lambda x,y: x if x > y else y\n",
    "\n",
    "abc(5, 6)"
   ]
  },
  {
   "cell_type": "code",
   "execution_count": 84,
   "metadata": {},
   "outputs": [
    {
     "name": "stdout",
     "output_type": "stream",
     "text": [
      "6\n"
     ]
    },
    {
     "data": {
      "text/plain": [
       "6"
      ]
     },
     "execution_count": 84,
     "metadata": {},
     "output_type": "execute_result"
    }
   ],
   "source": [
    "abc = lambda x,y: x if x > y else y\n",
    "\n",
    "def abc2(x, y):\n",
    "    if x > y:\n",
    "        return x\n",
    "    else:\n",
    "        return y\n",
    "\n",
    "print(abc(5, 6))\n",
    "abc2(5, 6)"
   ]
  },
  {
   "cell_type": "markdown",
   "metadata": {},
   "source": [
    "# NEXT CLASS EXCEPTIONAL HANDLING\n",
    "# BETA JE PARH K ANA\n"
   ]
  },
  {
   "cell_type": "code",
   "execution_count": null,
   "metadata": {},
   "outputs": [],
   "source": []
  }
 ],
 "metadata": {
  "kernelspec": {
   "display_name": "Python 3",
   "language": "python",
   "name": "python3"
  },
  "language_info": {
   "codemirror_mode": {
    "name": "ipython",
    "version": 3
   },
   "file_extension": ".py",
   "mimetype": "text/x-python",
   "name": "python",
   "nbconvert_exporter": "python",
   "pygments_lexer": "ipython3",
   "version": "3.7.3"
  }
 },
 "nbformat": 4,
 "nbformat_minor": 2
}
