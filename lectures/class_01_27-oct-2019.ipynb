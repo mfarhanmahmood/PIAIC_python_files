{
 "cells": [
  {
   "cell_type": "code",
   "execution_count": 1,
   "metadata": {},
   "outputs": [
    {
     "name": "stdout",
     "output_type": "stream",
     "text": [
      "Pakistan Zindabad\n",
      "we are Pakistani\n"
     ]
    }
   ],
   "source": [
    "print(\"Pakistan Zindabad\")\n",
    "print(\"we are Pakistani\")"
   ]
  },
  {
   "cell_type": "code",
   "execution_count": 2,
   "metadata": {},
   "outputs": [
    {
     "name": "stdout",
     "output_type": "stream",
     "text": [
      "creating a new cell\n"
     ]
    }
   ],
   "source": [
    "print(\"creating a new cell\")\n",
    "newVar = \"newVar\""
   ]
  },
  {
   "cell_type": "code",
   "execution_count": 3,
   "metadata": {},
   "outputs": [
    {
     "name": "stdout",
     "output_type": "stream",
     "text": [
      "Hello World\n",
      "newVar\n"
     ]
    }
   ],
   "source": [
    "print(\"Hello World\")\n",
    "print(newVar)"
   ]
  },
  {
   "cell_type": "markdown",
   "metadata": {},
   "source": [
    "# new Markdown\n",
    "---"
   ]
  },
  {
   "cell_type": "raw",
   "metadata": {},
   "source": [
    "(function) => {\n",
    "    console.log('hello');\n",
    "}"
   ]
  },
  {
   "cell_type": "code",
   "execution_count": 4,
   "metadata": {},
   "outputs": [
    {
     "name": "stdout",
     "output_type": "stream",
     "text": [
      " \n",
      "PIAIC ISLAMABAD GROUP\n",
      "NAME: Farhan Mahmood\n",
      "FATHER NAME: Mahmood Ahmad\n",
      "\n"
     ]
    }
   ],
   "source": [
    "name = \"Farhan Mahmood\"\n",
    "father_name = \"Mahmood Ahmad\"\n",
    "\n",
    "message = ''' \n",
    "PIAIC ISLAMABAD GROUP\n",
    "NAME: {}\n",
    "FATHER NAME: {}\n",
    "'''\n",
    "\n",
    "message = message.format(name, father_name)\n",
    "\n",
    "print(message)"
   ]
  },
  {
   "cell_type": "markdown",
   "metadata": {},
   "source": [
    "# Mark Sheet\n",
    "---"
   ]
  },
  {
   "cell_type": "code",
   "execution_count": 1,
   "metadata": {},
   "outputs": [
    {
     "name": "stdout",
     "output_type": "stream",
     "text": [
      "Enter AI course marks, max(75): bla\n",
      "Enter AI course marks, max(75): hi\n",
      "Enter AI course marks, max(75): 2\n",
      "Enter Computer Science course marks, max(75): 6\n",
      "Enter Python course marks, max(75): 3\n",
      "Enter Jupyter course marks, max(75): 3\n",
      "Enter Machine Learning course marks, max(75): 2\n",
      "\n",
      "    Course\t---\tTotal\t---\tMarks\t---\tPercentage\n",
      "\n",
      "    AI\t\t---\t75\t---\t2\t---\t2.67%\n",
      "    CS\t\t---\t75\t---\t6\t---\t8.0%\n",
      "    Python\t---\t75\t---\t3\t---\t4.0%\n",
      "    Jupyter\t---\t75\t---\t3\t---\t4.0%\n",
      "    ML\t\t---\t75\t---\t2\t---\t2.67%\n",
      "    \n",
      "    Your average marks are: 3.2\n",
      "\n"
     ]
    }
   ],
   "source": [
    "total = 75\n",
    "def get_marks(course):\n",
    "    marks = 76\n",
    "    not_num = True\n",
    "    loop = True\n",
    "    while(loop):\n",
    "        input_str = input(f\"Enter {course} course marks, max({total}): \")\n",
    "        \n",
    "        if input_str.isdigit():\n",
    "            not_num = False\n",
    "            marks = int(input_str)\n",
    "        else:\n",
    "            not_num = True\n",
    "        \n",
    "        if marks > total or not_num:\n",
    "            loop = True\n",
    "        else:\n",
    "            loop = False\n",
    "    return marks\n",
    "        \n",
    "\n",
    "mark_01 = get_marks(\"AI\")\n",
    "mark_02 = get_marks(\"Computer Science\")\n",
    "mark_03 = get_marks(\"Python\")\n",
    "mark_04 = get_marks(\"Jupyter\")\n",
    "mark_05 = get_marks(\"Machine Learning\")\n",
    "\n",
    "marks_sum = mark_01 + mark_02 + mark_03 + mark_04 + mark_05\n",
    "marks_average = marks_sum / 5\n",
    "\n",
    "percent_01 = round((mark_01 / total)*100, 2)\n",
    "percent_02 = round((mark_02 / total)*100, 2)\n",
    "percent_03 = round((mark_03 / total)*100, 2)\n",
    "percent_04 = round((mark_04 / total)*100, 2)\n",
    "percent_05 = round((mark_05 / total)*100, 2)\n",
    "\n",
    "display_message = '''\n",
    "    Course\\t---\\tTotal\\t---\\tMarks\\t---\\tPercentage\\n\n",
    "    AI\\t\\t---\\t75\\t---\\t{}\\t---\\t{}%\n",
    "    CS\\t\\t---\\t75\\t---\\t{}\\t---\\t{}%\n",
    "    Python\\t---\\t75\\t---\\t{}\\t---\\t{}%\n",
    "    Jupyter\\t---\\t75\\t---\\t{}\\t---\\t{}%\n",
    "    ML\\t\\t---\\t75\\t---\\t{}\\t---\\t{}%\n",
    "    \n",
    "    Your average marks are: {}\n",
    "'''\n",
    "\n",
    "display_message = display_message.format(mark_01, percent_01, mark_02, percent_02, mark_03, \n",
    "                                         percent_03, mark_04, percent_04, mark_05, percent_05, marks_average)\n",
    "\n",
    "print(display_message)\n"
   ]
  },
  {
   "cell_type": "code",
   "execution_count": 3,
   "metadata": {},
   "outputs": [
    {
     "name": "stdout",
     "output_type": "stream",
     "text": [
      "Enter a number less than 100: 999\n",
      "number is greater than 100\n"
     ]
    }
   ],
   "source": [
    "num = int(input(\"Enter a number less than 100: \"))\n",
    "if num <= 100:\n",
    "    print(\"number is correct\")\n",
    "else:\n",
    "    print(\"number is greater than 100\")"
   ]
  }
 ],
 "metadata": {
  "file_extension": ".py",
  "kernelspec": {
   "display_name": "Python 3",
   "language": "python",
   "name": "python3"
  },
  "language_info": {
   "codemirror_mode": {
    "name": "ipython",
    "version": 3
   },
   "file_extension": ".py",
   "mimetype": "text/x-python",
   "name": "python",
   "nbconvert_exporter": "python",
   "pygments_lexer": "ipython3",
   "version": "3.7.3"
  },
  "mimetype": "text/x-python",
  "name": "python",
  "npconvert_exporter": "python",
  "pygments_lexer": "ipython3",
  "version": 3
 },
 "nbformat": 4,
 "nbformat_minor": 2
}
