{
 "cells": [
  {
   "cell_type": "markdown",
   "metadata": {},
   "source": [
    "# Dictionary\n",
    "---\n",
    "Python data type that has Key value pairs e.g **{\"Key\": \"Value\"}**"
   ]
  },
  {
   "cell_type": "code",
   "execution_count": 2,
   "metadata": {},
   "outputs": [
    {
     "data": {
      "text/plain": [
       "'Hello'"
      ]
     },
     "execution_count": 2,
     "metadata": {},
     "output_type": "execute_result"
    }
   ],
   "source": [
    "# List Datatype\n",
    "\n",
    "#     0    1      2\n",
    "l1 = [1, 'hi', \"Hello\"]\n",
    "#    -3   -2      -1\n",
    "\n",
    "# get Element list[elementIndex]\n",
    "l1[2]"
   ]
  },
  {
   "cell_type": "markdown",
   "metadata": {},
   "source": [
    "## Dictionary datatType\n",
    "\n",
    "### {key1: value1,\n",
    "###  key2: value2,\n",
    "###  key3: value3}\n"
   ]
  },
  {
   "cell_type": "code",
   "execution_count": 6,
   "metadata": {},
   "outputs": [
    {
     "data": {
      "text/plain": [
       "{'id': 2, 'name': 'hi', 'course': 'Hello'}"
      ]
     },
     "execution_count": 6,
     "metadata": {},
     "output_type": "execute_result"
    }
   ],
   "source": [
    "d1 = {\"id\": 2,\n",
    "     \"name\": \"hi\",\n",
    "     \"course\": \"Hello\"}\n",
    "d1"
   ]
  },
  {
   "cell_type": "code",
   "execution_count": 13,
   "metadata": {},
   "outputs": [
    {
     "name": "stdout",
     "output_type": "stream",
     "text": [
      "{'id': 1, 'name': 'farhan', 'course': 'Artificial Intelligence'}\n"
     ]
    }
   ],
   "source": [
    "d1 = {} # initialize empty dictionary\n",
    "d1[\"id\"] = 1\n",
    "d1[\"name\"] = \"farhan\"\n",
    "d1[\"course\"] = \"IOT\"\n",
    "d1[\"course\"] = \"Artificial Intelligence\"\n",
    "\n",
    "# Python will only consider the last key value pair in case of duplicate\n",
    "print(d1)"
   ]
  },
  {
   "cell_type": "code",
   "execution_count": 15,
   "metadata": {},
   "outputs": [
    {
     "name": "stdout",
     "output_type": "stream",
     "text": [
      "{'id': 1, 'name': 'farhan', 'course': 'Artificial Intelligence'}\n",
      "{}\n"
     ]
    }
   ],
   "source": [
    "d1 = {'id': 1, 'name': 'farhan', 'course': 'Artificial Intelligence'}\n",
    "print(d1)\n",
    "d1.clear() # d1 list is cleared\n",
    "print(d1)\n",
    "\n",
    "# del(d1) # d1 variable is delted after this line\n",
    "# print(d1)"
   ]
  },
  {
   "cell_type": "code",
   "execution_count": null,
   "metadata": {},
   "outputs": [],
   "source": [
    "d1 = {'id': 1, 'name': 'farhan', 'course': 'Artificial Intelligence'}\n",
    "d2 = d1.copy()\n",
    "print(d1)"
   ]
  },
  {
   "cell_type": "code",
   "execution_count": 17,
   "metadata": {},
   "outputs": [
    {
     "name": "stdout",
     "output_type": "stream",
     "text": [
      "{'name': None, 'id': None, 'contact': None, 'DOB': None, 'CNIC': None}\n"
     ]
    }
   ],
   "source": [
    "l1 = [\"name\", \"id\", \"contact\", \"DOB\", \"CNIC\"]\n",
    "d1 = dict.fromkeys(l1)\n",
    "print(d1)"
   ]
  },
  {
   "cell_type": "code",
   "execution_count": 21,
   "metadata": {},
   "outputs": [
    {
     "name": "stdout",
     "output_type": "stream",
     "text": [
      "Enter keys: id, name, my, new\n",
      "{'id': None, 'name': None, 'my': None, 'new': None}\n"
     ]
    }
   ],
   "source": [
    "l2 = input(\"Enter keys: \").split(\", \")\n",
    "d2 = dict.fromkeys(l2)\n",
    "print(d2)"
   ]
  },
  {
   "cell_type": "code",
   "execution_count": 32,
   "metadata": {},
   "outputs": [
    {
     "name": "stdout",
     "output_type": "stream",
     "text": [
      "Enter keys: id, name, course\n",
      "Enter value: 01, farhan, AI\n",
      "{'id': '01', 'name': 'farhan', 'course': 'AI'}\n"
     ]
    }
   ],
   "source": [
    "l2 = input(\"Enter keys: \").split(\", \")\n",
    "d2 = dict.fromkeys(l2)\n",
    "l3 = input(\"Enter value: \").split(\", \")\n",
    "\n",
    "for key, value in zip(l2, l3):\n",
    "    d2[key] = value\n",
    "    \n",
    "print(d2)"
   ]
  },
  {
   "cell_type": "code",
   "execution_count": 34,
   "metadata": {},
   "outputs": [
    {
     "name": "stdout",
     "output_type": "stream",
     "text": [
      "Enter keys: id, name, course\n",
      "Enter value: 01, farhan, AI\n",
      "{'id': '01', 'name': 'farhan', 'course': 'AI'}\n"
     ]
    }
   ],
   "source": [
    "keys = input(\"Enter keys: \").split(\", \")\n",
    "values = input(\"Enter value: \").split(\", \")\n",
    "\n",
    "d2 = {k:v for (k,v) in zip(keys, values)}\n",
    "print(d2)"
   ]
  },
  {
   "cell_type": "code",
   "execution_count": 39,
   "metadata": {},
   "outputs": [
    {
     "name": "stdout",
     "output_type": "stream",
     "text": [
      "Enter your id: 01\n",
      "Enter your name: farhan\n",
      "Enter your skill comma seperated: C++ programming, AI learner, Web developer\n",
      "{'id': 1, 'name': 'farhan', 'skills': ['C++ programming', 'AI learner', 'Web developer']}\n"
     ]
    }
   ],
   "source": [
    "info = {\"id\": None, \"name\": None, \"skills\": []}\n",
    "info[\"id\"] = int(input(\"Enter your id: \"))\n",
    "info[\"name\"] = input(\"Enter your name: \")\n",
    "info[\"skills\"] = input(\"Enter your skill comma seperated: \").split(\", \")\n",
    "\n",
    "print(info)"
   ]
  },
  {
   "cell_type": "code",
   "execution_count": 76,
   "metadata": {},
   "outputs": [
    {
     "data": {
      "text/plain": [
       "[('J', 'q', '9'),\n",
       " ('I', 'r', '8'),\n",
       " ('H', 's', '7'),\n",
       " ('G', 't', '6'),\n",
       " ('F', 'u', '5'),\n",
       " ('E', 'v', '4'),\n",
       " ('D', 'w', '3'),\n",
       " ('C', 'x', '2'),\n",
       " ('B', 'y', '1'),\n",
       " ('A', 'z', '0')]"
      ]
     },
     "execution_count": 76,
     "metadata": {},
     "output_type": "execute_result"
    }
   ],
   "source": [
    "l1 = [chr(i) for i in range(65, 91)]\n",
    "l2 = [chr(i) for i in range(97, 123)]\n",
    "l3 = [chr(i) for i in range(48, 58)]\n",
    "\n",
    "d = zip(l1, sorted(l2, reverse=True), l3)\n",
    "list1 = list(d)\n",
    "\n",
    "# Sorting by tuple column 3\n",
    "sorted(list1, key=lambda i: i[2], reverse=True)"
   ]
  },
  {
   "cell_type": "code",
   "execution_count": 71,
   "metadata": {},
   "outputs": [
    {
     "name": "stdout",
     "output_type": "stream",
     "text": [
      "{'a': 1, 'c': 2, 'd': 3, 'z': 4, 'g': 7}\n",
      "{'a': 1, 'c': 2, 'd': 3, 'g': 7, 'z': 4}\n"
     ]
    }
   ],
   "source": [
    "dict1 = {\n",
    "    \"a\": 1,\n",
    "    \"c\": 2,\n",
    "    \"d\": 3,\n",
    "    \"z\": 4,\n",
    "    \"g\": 7\n",
    "}\n",
    "dict2 = {}\n",
    "\n",
    "# sorting by key\n",
    "for i in sorted(dict1):\n",
    "    dict2.update({i: dict1[i]})\n",
    "    \n",
    "print(dict1)\n",
    "print(dict2)"
   ]
  },
  {
   "cell_type": "code",
   "execution_count": 77,
   "metadata": {},
   "outputs": [
    {
     "name": "stdout",
     "output_type": "stream",
     "text": [
      "{'z': 1, 'c': 2, 'd': 3, 'b': 4, 'g': 7}\n",
      "{'b': 4, 'c': 2, 'd': 3, 'g': 7, 'z': 1}\n"
     ]
    }
   ],
   "source": [
    "dict1 = {\n",
    "    \"z\": 1,\n",
    "    \"c\": 2,\n",
    "    \"d\": 3,\n",
    "    \"b\": 4,\n",
    "    \"g\": 7\n",
    "}\n",
    "\n",
    "# sorting by value\n",
    "dict2 = { key: dict1[key] for key in sorted(dict1)}\n",
    "    \n",
    "print(dict1)\n",
    "print(dict2)"
   ]
  },
  {
   "cell_type": "code",
   "execution_count": 78,
   "metadata": {},
   "outputs": [
    {
     "name": "stdout",
     "output_type": "stream",
     "text": [
      "{'a': 1, 'c': 2, 'd': 3, 'z': 4, 'g': 7}\n",
      "{'a': 1, 'c': 2, 'd': 3, 'z': 4, 'g': 7}\n"
     ]
    }
   ],
   "source": [
    "dict1 = {\n",
    "    \"a\": 1,\n",
    "    \"c\": 2,\n",
    "    \"d\": 3,\n",
    "    \"z\": 4,\n",
    "    \"g\": 7\n",
    "}\n",
    "\n",
    "# Sorting by value\n",
    "dict2 = {k:v for k, v in sorted(dict1.items(), key=lambda item: item[1])}\n",
    "print(dict1)\n",
    "print(dict2)"
   ]
  },
  {
   "cell_type": "code",
   "execution_count": 82,
   "metadata": {},
   "outputs": [
    {
     "name": "stdout",
     "output_type": "stream",
     "text": [
      "Enter your id: 01\n",
      "Enter your name: farhan\n",
      "Enter your skill comma seperated: C++, Python\n",
      "Add new data Y/N: Y\n",
      "Enter your id: 02\n",
      "Enter your name: Waqar\n",
      "Enter your skill comma seperated: HTML, CSS, Python\n",
      "Add new data Y/N: N\n",
      "[{'id': 1, 'name': 'farhan', 'skills': ['C++', 'Python']}, {'id': 2, 'name': 'Waqar', 'skills': ['HTML', 'CSS', 'Python']}]\n"
     ]
    }
   ],
   "source": [
    "def getInfo():\n",
    "    info = {\"id\": None, \"name\": None, \"skills\": []}\n",
    "    info[\"id\"] = int(input(\"Enter your id: \"))\n",
    "    info[\"name\"] = input(\"Enter your name: \")\n",
    "    info[\"skills\"] = input(\"Enter your skill comma seperated: \").split(\", \")\n",
    "    return info\n",
    "\n",
    "db = []\n",
    "\n",
    "while True:\n",
    "    db.append(getInfo())\n",
    "    if input(\"Add new data Y/N: \").lower() == \"n\":\n",
    "        break\n",
    "\n",
    "print(db)"
   ]
  }
 ],
 "metadata": {
  "kernelspec": {
   "display_name": "Python 3",
   "language": "python",
   "name": "python3"
  },
  "language_info": {
   "codemirror_mode": {
    "name": "ipython",
    "version": 3
   },
   "file_extension": ".py",
   "mimetype": "text/x-python",
   "name": "python",
   "nbconvert_exporter": "python",
   "pygments_lexer": "ipython3",
   "version": "3.7.3"
  }
 },
 "nbformat": 4,
 "nbformat_minor": 2
}
