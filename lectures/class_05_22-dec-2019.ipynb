{
 "cells": [
  {
   "cell_type": "markdown",
   "metadata": {},
   "source": [
    "# Revision of previous lectures\n",
    "---\n",
    "Today sir rauf revised/re-explained previous classes's topics"
   ]
  },
  {
   "cell_type": "code",
   "execution_count": 9,
   "metadata": {},
   "outputs": [
    {
     "name": "stdout",
     "output_type": "stream",
     "text": [
      "Enter you marks: 100\n",
      "A+ Grade\n"
     ]
    }
   ],
   "source": [
    "# Task 1\n",
    "\n",
    "n = int(input(\"Enter you marks: \"))\n",
    "\n",
    "if (n == 100):\n",
    "    print(\"A+ Grade\")\n",
    "elif (n >= 78 and n < 100):\n",
    "    print(\"A Grade\")\n",
    "elif (n >= 41 and n < 78):\n",
    "    print(\"B Grade\")\n",
    "elif (n >= 23 and n < 41):\n",
    "    print(\"C Grade\")\n",
    "elif (n >= 1 and n < 23):\n",
    "    print(\"D Grade\")\n",
    "elif(n == 0):\n",
    "    print(\"Fail\")\n",
    "else:\n",
    "    print(\"Error: Invalid grade\")"
   ]
  },
  {
   "cell_type": "code",
   "execution_count": 26,
   "metadata": {},
   "outputs": [
    {
     "name": "stdout",
     "output_type": "stream",
     "text": [
      "Enter number of days: 7\n",
      "Enter rented day (As a three letter abbriviation e.g sun): sun\n",
      "Enter return hour (as a hh (space) mm): 20 45\n",
      "Enter Y if dvd is scratched: y\n",
      "$10.9\n"
     ]
    }
   ],
   "source": [
    "# Task 2\n",
    "\n",
    "days = [\"Mon\", \"Tue\", \"Wed\", \"Thu\", \"Fri\", \"Sat\", \"Sun\"]\n",
    "days_rented = int(input(\"Enter number of days: \"))\n",
    "rented_on = input(\"Enter rented day (As a three letter abbriviation e.g sun): \")\n",
    "return_hour = int(\"\".join(input(\"Enter return hour (as a hh (space) mm): \").split()))\n",
    "is_scratched = input(\"Enter Y if dvd is scratched: \").lower()\n",
    "\n",
    "cost_per_night = 1.59\n",
    "\n",
    "total_cost = 0\n",
    "fine = 0\n",
    "\n",
    "if return_hour > 2000:\n",
    "    total_cost += cost_per_night\n",
    "    if is_scratched == 'y':\n",
    "        fine += 1\n",
    "        \n",
    "total_cost += cost_per_night * days_rented\n",
    "\n",
    "\n",
    "if rented_on == \"sun\":\n",
    "    total_cost -= 0.3 * total_cost\n",
    "    if is_scratched == 'y':\n",
    "        fine += 1\n",
    "elif rented_on == \"thu\":\n",
    "    total_cost -= 0.5 * total_cost\n",
    "\n",
    "print(f\"${round(total_cost + fine, 2)}\")\n"
   ]
  },
  {
   "cell_type": "code",
   "execution_count": 37,
   "metadata": {},
   "outputs": [
    {
     "name": "stdout",
     "output_type": "stream",
     "text": [
      "6\n"
     ]
    }
   ],
   "source": [
    "# Task 3\n",
    "\n",
    "list1 = [0, 1, 2, 3, 4, 5, 6, 7, 8, 9 ]\n",
    "\n",
    "x = 0\n",
    "\n",
    "while x < len(list1):\n",
    "    if(list1[x] == 6):\n",
    "        print(x)\n",
    "        break\n",
    "    x += 1"
   ]
  },
  {
   "cell_type": "code",
   "execution_count": 3,
   "metadata": {},
   "outputs": [
    {
     "name": "stdout",
     "output_type": "stream",
     "text": [
      "Enter your name: Farhan\n",
      "Enter your course: AI\n",
      "Enter your English marks: 50\n",
      "Enter your Math marks: 20\n",
      "Enter your skill comma seperated: A, b, c\n",
      "Take Input Y/NN\n",
      "[{'Name': 'Farhan', 'Course': 'AI', 'Marks': {'English': 50, 'Math': 20}, 'Skills': ['A', 'b', 'c']}]\n"
     ]
    }
   ],
   "source": [
    "list1 = []\n",
    "\n",
    "while True:\n",
    "    \n",
    "    dict1 = {\"Name\": \"\", \"Course\": \"\", \"Marks\": {\"English\": 0, \"Math\": 0}, \"Skills\": []}\n",
    "    dict1[\"Name\"] = input(\"Enter your name: \")\n",
    "    dict1[\"Course\"] = input(\"Enter your course: \")\n",
    "    for val in dict1[\"Marks\"].keys():\n",
    "        dict1[\"Marks\"][val] = int(input(f\"Enter your {val} marks: \"))\n",
    "    dict1[\"Skills\"] = list(map(lambda i: i.strip(), input(\"Enter your skill comma seperated: \").split(\",\")))\n",
    "    \n",
    "    list1.append(dict1)\n",
    "    \n",
    "    if input(\"Take Input Y/N\").lower() != \"y\":\n",
    "        break\n",
    "\n",
    "print(list1)"
   ]
  }
 ],
 "metadata": {
  "kernelspec": {
   "display_name": "Python 3",
   "language": "python",
   "name": "python3"
  },
  "language_info": {
   "codemirror_mode": {
    "name": "ipython",
    "version": 3
   },
   "file_extension": ".py",
   "mimetype": "text/x-python",
   "name": "python",
   "nbconvert_exporter": "python",
   "pygments_lexer": "ipython3",
   "version": "3.7.3"
  }
 },
 "nbformat": 4,
 "nbformat_minor": 2
}
