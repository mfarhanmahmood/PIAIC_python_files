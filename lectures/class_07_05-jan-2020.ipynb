{
 "cells": [
  {
   "cell_type": "markdown",
   "metadata": {},
   "source": [
    "# Topics\n",
    "---\n",
    "- Class\n",
    "- Instance\n",
    "- Method\n",
    "- Attributes/Properties\n",
    "- Class variable\n",
    "- Instance variable\n",
    "- ***OOP pillars***\n",
    "    + Inheritance\n",
    "    + Encapsulation\n",
    "    + Abstraction\n",
    "    + Polymorphisim\n",
    "- \n",
    "\n",
    "---\n"
   ]
  },
  {
   "cell_type": "markdown",
   "metadata": {},
   "source": []
  },
  {
   "cell_type": "code",
   "execution_count": 16,
   "metadata": {},
   "outputs": [
    {
     "name": "stdout",
     "output_type": "stream",
     "text": [
      "hello! I am haris\n"
     ]
    }
   ],
   "source": [
    "class Human:\n",
    "    def __init__(self, name):\n",
    "        self.name = name\n",
    "    def greet(self):\n",
    "        print(f\"hello! I am {self.name}\")\n",
    "\n",
    "haris = Human(\"haris\")\n",
    "haris.greet()"
   ]
  },
  {
   "cell_type": "code",
   "execution_count": 26,
   "metadata": {},
   "outputs": [
    {
     "name": "stdout",
     "output_type": "stream",
     "text": [
      "My height is 4ft\n",
      "None\n"
     ]
    }
   ],
   "source": [
    "class Father:\n",
    "    haircolor = \"black\"\n",
    "    eyecolor = \"brown\"\n",
    "        \n",
    "    def print_haircolor(self):\n",
    "        print(f\"My hair color is {self.haircolor}\")\n",
    "        \n",
    "    def print_eyecolor(self):        \n",
    "        print(f\"My eye color is {self.eyecolor}\")\n",
    "        \n",
    "    def greet(self):\n",
    "        print(\"Hello! I am the father\")\n",
    "        \n",
    "class Mother:\n",
    "    height = \"4ft\"\n",
    "    skincolor = \"skincolor\"\n",
    "        \n",
    "    def print_height(self):\n",
    "        print(f\"My height is {self.height}\")\n",
    "        \n",
    "    def print_skincolor(self):\n",
    "        print(f\"My skin color is {self.skincolor}\")\n",
    "        \n",
    "    def greet(self):\n",
    "        print(\"Hello! I am the mother\")\n",
    "        \n",
    "class Child(Father, Mother):\n",
    "    def greet():\n",
    "        print(\"Hello! I am the child\")\n",
    "\n",
    "m = Mother()\n",
    "f = Father()\n",
    "c = Child()\n",
    "\n",
    "c.get_height()"
   ]
  },
  {
   "cell_type": "code",
   "execution_count": 26,
   "metadata": {},
   "outputs": [
    {
     "name": "stdout",
     "output_type": "stream",
     "text": [
      "My height is 4ft\n",
      "None\n"
     ]
    }
   ],
   "source": [
    "class Father:\n",
    "    def __init(self, haircolor, eyecolor)\n",
    "        self.haircolor = haircolor\n",
    "        self.eyecolor = eyecolor\n",
    "        \n",
    "    def print_haircolor(self):\n",
    "        print(f\"My hair color is {self.haircolor}\")\n",
    "        \n",
    "    def print_eyecolor(self):        \n",
    "        print(f\"My eye color is {self.eyecolor}\")\n",
    "        \n",
    "    def greet(self):\n",
    "        print(\"Hello! I am the father\")\n",
    "        \n",
    "class Mother:\n",
    "    def __init(self, height, skincolor)\n",
    "        self.height = height\n",
    "        self.skincolor = skincolor\n",
    "        \n",
    "    def print_height(self):\n",
    "        print(f\"My height is {self.height}\")\n",
    "        \n",
    "    def print_skincolor(self):\n",
    "        print(f\"My skin color is {self.skincolor}\")\n",
    "        \n",
    "    def greet(self):\n",
    "        print(\"Hello! I am the mother\")\n",
    "        \n",
    "class Child(Father, Mother):\n",
    "    def __init__(self, Father, Mother):\n",
    "        pass\n",
    "    def greet():\n",
    "        print(\"Hello! I am the child\")\n",
    "\n",
    "m = Mother()\n",
    "f = Father()\n",
    "c = Child()\n",
    "\n",
    "c.get_height()"
   ]
  }
 ],
 "metadata": {
  "kernelspec": {
   "display_name": "Python 3",
   "language": "python",
   "name": "python3"
  },
  "language_info": {
   "codemirror_mode": {
    "name": "ipython",
    "version": 3
   },
   "file_extension": ".py",
   "mimetype": "text/x-python",
   "name": "python",
   "nbconvert_exporter": "python",
   "pygments_lexer": "ipython3",
   "version": "3.7.3"
  }
 },
 "nbformat": 4,
 "nbformat_minor": 2
}
