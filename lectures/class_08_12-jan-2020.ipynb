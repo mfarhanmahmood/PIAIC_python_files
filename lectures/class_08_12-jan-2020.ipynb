{
 "cells": [
  {
   "cell_type": "markdown",
   "metadata": {},
   "source": [
    "# Topics\n",
    "---\n",
    "+ Encapsulation\n",
    "+ Abstract Classes\n",
    "+ Exception Handling\n",
    "+ Model vs Packages\n",
    "+ Overriding"
   ]
  },
  {
   "cell_type": "markdown",
   "metadata": {},
   "source": [
    "## Model vs Package\n",
    "    Model is a single particulart python file\n",
    "    Package is a collection of related python files"
   ]
  },
  {
   "cell_type": "code",
   "execution_count": 11,
   "metadata": {},
   "outputs": [
    {
     "name": "stdout",
     "output_type": "stream",
     "text": [
      "Farhan\n",
      "22\n",
      "I am Private\n"
     ]
    },
    {
     "ename": "AttributeError",
     "evalue": "'A' object has no attribute '__c_name'",
     "output_type": "error",
     "traceback": [
      "\u001b[1;31m---------------------------------------------------------------------------\u001b[0m",
      "\u001b[1;31mAttributeError\u001b[0m                            Traceback (most recent call last)",
      "\u001b[1;32m<ipython-input-11-f101c1fe02ef>\u001b[0m in \u001b[0;36m<module>\u001b[1;34m\u001b[0m\n\u001b[0;32m     11\u001b[0m \u001b[0mprint\u001b[0m\u001b[1;33m(\u001b[0m\u001b[0ma\u001b[0m\u001b[1;33m.\u001b[0m\u001b[0m_age\u001b[0m\u001b[1;33m)\u001b[0m\u001b[1;33m\u001b[0m\u001b[1;33m\u001b[0m\u001b[0m\n\u001b[0;32m     12\u001b[0m \u001b[0mprint\u001b[0m\u001b[1;33m(\u001b[0m\u001b[0ma\u001b[0m\u001b[1;33m.\u001b[0m\u001b[0m_A__c_name\u001b[0m\u001b[1;33m)\u001b[0m \u001b[1;31m# Accessing private attributes\u001b[0m\u001b[1;33m\u001b[0m\u001b[1;33m\u001b[0m\u001b[0m\n\u001b[1;32m---> 13\u001b[1;33m \u001b[0mprint\u001b[0m\u001b[1;33m(\u001b[0m\u001b[0ma\u001b[0m\u001b[1;33m.\u001b[0m\u001b[0m__c_name\u001b[0m\u001b[1;33m)\u001b[0m\u001b[1;33m\u001b[0m\u001b[1;33m\u001b[0m\u001b[0m\n\u001b[0m",
      "\u001b[1;31mAttributeError\u001b[0m: 'A' object has no attribute '__c_name'"
     ]
    }
   ],
   "source": [
    "# Encapsulation\n",
    "\n",
    "class A:\n",
    "    def __init__(self):\n",
    "        self.name = \"Farhan\" # Public variable\n",
    "        self._age = 22 # Protected variable (Only accessable within and child classes)\n",
    "        self.__c_name = \"I am Private\" # Private variable (Only accessable within the class definition)\n",
    "a = A()\n",
    "\n",
    "print(a.name)\n",
    "print(a._age)\n",
    "print(a._A__c_name) # Accessing private attributes\n",
    "print(a.__c_name)\n"
   ]
  },
  {
   "cell_type": "code",
   "execution_count": null,
   "metadata": {},
   "outputs": [],
   "source": [
    "# Inheritance\n",
    "\n",
    "class A:\n",
    "    haircolor = \"Blue\"\n",
    "    def __init__(self, name, age):\n",
    "        self.name = name\n",
    "        self.age = age\n",
    "        \n",
    "    def display(self):\n",
    "        print(self.name, self.age, self.haircolor)\n",
    "\n",
    "class B(A):\n",
    "    def __init__(self, name, age):\n",
    "        self.name = name\n",
    "        self.age = age\n",
    "\n",
    "a = A(\"ABC\", 12)\n",
    "b = B(\"CBA\", 5)\n",
    "\n",
    "a.display()\n",
    "b.display()"
   ]
  },
  {
   "cell_type": "code",
   "execution_count": 19,
   "metadata": {},
   "outputs": [
    {
     "name": "stdout",
     "output_type": "stream",
     "text": [
      "ABC 54 Blue\n",
      "--------------------------------------------\n",
      "ABC 54 Blue\n",
      "ABC 54 Blue\n",
      "ABC 54 Blue\n",
      "ABC 54 Blue\n",
      "ABC 54 Blue\n"
     ]
    }
   ],
   "source": [
    "# Polymorphisum\n",
    "\n",
    "class A:\n",
    "    haircolor = \"Blue\"\n",
    "    def __init__(self, name, age):\n",
    "        self.name = name\n",
    "        self.age = age\n",
    "        \n",
    "    def display(self):\n",
    "        print(self.name, self.age, self.haircolor)\n",
    "    def display(self, print_times=1):\n",
    "        for i in range(print_times):\n",
    "            print(self.name, self.age, self.haircolor)\n",
    "\n",
    "class B(A):\n",
    "    def __init__(self, name, age):\n",
    "        self.name = name\n",
    "        self.age = age\n",
    "\n",
    "a = A(\"ABC\", 54)\n",
    "\n",
    "a.display()\n",
    "print(\"--------------------------------------------\")\n",
    "a.display(print_times=5)"
   ]
  },
  {
   "cell_type": "code",
   "execution_count": 42,
   "metadata": {},
   "outputs": [
    {
     "name": "stdout",
     "output_type": "stream",
     "text": [
      "Can't instantiate abstract class abstract_class with abstract methods display\n",
      "------------------\n",
      "Overridden abstract method\n",
      "Farhan\n",
      "------------------\n",
      "------------------\n",
      "Overridden abstract method\n",
      "hi\n",
      "------------------\n",
      "------------------\n",
      "Overridden abstract method\n",
      "Farhan\n",
      "------------------\n"
     ]
    }
   ],
   "source": [
    "# Abstraction\n",
    "import abc\n",
    "from abc import ABC, abstractmethod\n",
    "\n",
    "class abstract_class(ABC):\n",
    "    @property\n",
    "    def name(self):\n",
    "        raise NotImplemented\n",
    "    \n",
    "    # Abstract Method\n",
    "    @abc.abstractmethod\n",
    "    def display(self):\n",
    "        pass\n",
    "\n",
    "class AB(abstract_class):\n",
    "    # Before changing abstract properties you need to set that property to a default value\n",
    "    name = None\n",
    "    \n",
    "    def __init__(self, name=None):\n",
    "        self.name = name\n",
    "    \n",
    "    # Overriding abstract method\n",
    "    def display(self):\n",
    "        print(\"------------------\", \"Overridden abstract method\", self.name, \"------------------\", sep=\"\\n\")\n",
    "        \n",
    "try: \n",
    "    abstract = abstract_class()\n",
    "except(TypeError):\n",
    "    print(\"Can't instantiate abstract class abstract_class with abstract methods display\")\n",
    "    \n",
    "\n",
    "c1 = AB(\"Farhan\")\n",
    "c1.display()\n",
    "c2 = AB(\"Farhan\")\n",
    "c1.name = \"hi\"\n",
    "c1.display()\n",
    "c2.display()\n"
   ]
  },
  {
   "cell_type": "code",
   "execution_count": 59,
   "metadata": {},
   "outputs": [
    {
     "name": "stdout",
     "output_type": "stream",
     "text": [
      "2\n",
      "list index out of range\n",
      "In finally block\n",
      "\n",
      "\n",
      "\n",
      "-----------------------------\n",
      "\n",
      "\n",
      "\n",
      "3\n",
      "1\n",
      "2\n",
      "in else block\n",
      "In finally block\n"
     ]
    },
    {
     "ename": "IndexError",
     "evalue": "",
     "output_type": "error",
     "traceback": [
      "\u001b[1;31m---------------------------------------------------------------------------\u001b[0m",
      "\u001b[1;31mIndexError\u001b[0m                                Traceback (most recent call last)",
      "\u001b[1;32m<ipython-input-59-33bbe5e479d7>\u001b[0m in \u001b[0;36m<module>\u001b[1;34m\u001b[0m\n\u001b[0;32m     37\u001b[0m \u001b[1;31m# raise\u001b[0m\u001b[1;33m\u001b[0m\u001b[1;33m\u001b[0m\u001b[1;33m\u001b[0m\u001b[0m\n\u001b[0;32m     38\u001b[0m \u001b[1;31m# Keyword used to manually generate an error\u001b[0m\u001b[1;33m\u001b[0m\u001b[1;33m\u001b[0m\u001b[1;33m\u001b[0m\u001b[0m\n\u001b[1;32m---> 39\u001b[1;33m \u001b[1;32mraise\u001b[0m \u001b[0mIndexError\u001b[0m\u001b[1;33m\u001b[0m\u001b[1;33m\u001b[0m\u001b[0m\n\u001b[0m\u001b[0;32m     40\u001b[0m \u001b[1;33m\u001b[0m\u001b[0m\n",
      "\u001b[1;31mIndexError\u001b[0m: "
     ]
    }
   ],
   "source": [
    "list1 = [1, 2, 3]\n",
    "\n",
    "\n",
    "# When there is an error\n",
    "try:\n",
    "    # Try block will be executed until an error is encountered\n",
    "    print(list1[1])\n",
    "    print(list1[20]) # Index out of range error\n",
    "    print(list1[0])\n",
    "    \n",
    "    print(3/0) # Division by zero error\n",
    "except Exception as err: # IndexError will be generated\n",
    "    print(err)\n",
    "else:\n",
    "    print(\"in else block\")\n",
    "finally:\n",
    "    print(\"In finally block\")\n",
    "    \n",
    "\n",
    "print(\"\\n\\n\\n-----------------------------\\n\\n\\n\")\n",
    "# When there is no error\n",
    "try:\n",
    "    print(list1[2])\n",
    "    print(list1[0])\n",
    "    print(list1[1])\n",
    "except Exception as err:\n",
    "    print(err)\n",
    "else:\n",
    "    print(\"in else block\")\n",
    "finally:\n",
    "    print(\"In finally block\")\n",
    "    \n",
    "    \n",
    "\n",
    "    \n",
    "    \n",
    "# raise\n",
    "# Keyword used to manually generate an error\n",
    "raise IndexError\n",
    "    "
   ]
  }
 ],
 "metadata": {
  "kernelspec": {
   "display_name": "Python 3",
   "language": "python",
   "name": "python3"
  },
  "language_info": {
   "codemirror_mode": {
    "name": "ipython",
    "version": 3
   },
   "file_extension": ".py",
   "mimetype": "text/x-python",
   "name": "python",
   "nbconvert_exporter": "python",
   "pygments_lexer": "ipython3",
   "version": "3.7.3"
  }
 },
 "nbformat": 4,
 "nbformat_minor": 2
}
