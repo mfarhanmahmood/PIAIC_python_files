{
 "cells": [
  {
   "cell_type": "markdown",
   "metadata": {},
   "source": [
    "# Topic: File Handling\n",
    "---\n",
    "\n",
    "## File Operations\n",
    "\n",
    "|   x  | r   r+   w  w+   a   a+|\n",
    "| --- | --- |\n",
    "| read | + |\n",
    "\n",
    "__%load__ is a magic function that copies the data of one file into this file below the current line.\n",
    "\n",
    "\n",
    "### Other Notes:\n",
    "\n",
    "* Covert any type of data into numbers format is called _vectorization_\n",
    "* Multi dimentional hetorogenous array is sometime called _tensor_.\n",
    "\n",
    "### Freelance market project types for python programming\n",
    "* Web scraping & Web Crawler _lib:[beautiful Soup]_\n",
    "* Automation _lib: [selenium]_\n",
    "* Automatic GUI _lib:[PyAutoGUI]_\n",
    "* Desktop Application _lib: [PyQt5]_"
   ]
  },
  {
   "cell_type": "code",
   "execution_count": 30,
   "metadata": {},
   "outputs": [
    {
     "name": "stdout",
     "output_type": "stream",
     "text": [
      "This is the 1st line.\n",
      "This is the 2nd line.\n",
      "This is the 3rd line.\n"
     ]
    }
   ],
   "source": [
    "try:\n",
    "    file = open(\"./File Handling/test.txt\", \"r\")\n",
    "    print(file.read())\n",
    "except e:\n",
    "    print(e)\n",
    "finally:\n",
    "    file.close()"
   ]
  },
  {
   "cell_type": "code",
   "execution_count": null,
   "metadata": {},
   "outputs": [],
   "source": [
    "# %load \"./File Handling/pythonFiles/a.py\"\n",
    "def printPakistan():\n",
    "    print(\"Pakistan Zindabad\")"
   ]
  },
  {
   "cell_type": "code",
   "execution_count": 36,
   "metadata": {},
   "outputs": [
    {
     "name": "stdout",
     "output_type": "stream",
     "text": [
      "Pakistan Zindabad\n"
     ]
    }
   ],
   "source": [
    "printPakistan()"
   ]
  },
  {
   "cell_type": "code",
   "execution_count": 34,
   "metadata": {},
   "outputs": [
    {
     "name": "stdout",
     "output_type": "stream",
     "text": [
      "<class '_io.TextIOWrapper'>\n"
     ]
    }
   ],
   "source": [
    "try:\n",
    "    file = open(\"./File Handling/test.txt\")\n",
    "    print(type(file))\n",
    "except e:\n",
    "    print(e)\n",
    "finally:\n",
    "    file.close()"
   ]
  },
  {
   "cell_type": "code",
   "execution_count": 41,
   "metadata": {},
   "outputs": [
    {
     "name": "stdout",
     "output_type": "stream",
     "text": [
      "<class 'list'>\n",
      "['This is the 1st line.\\n', 'This is the 2nd line.\\n', 'This is the 3rd line.']\n"
     ]
    }
   ],
   "source": [
    "try:\n",
    "    data = list(open(\"./File Handling/test.txt\"))\n",
    "    print(type(data))\n",
    "except e:\n",
    "    print(e)\n",
    "finally:\n",
    "    print(data)"
   ]
  },
  {
   "cell_type": "code",
   "execution_count": 58,
   "metadata": {},
   "outputs": [
    {
     "name": "stdout",
     "output_type": "stream",
     "text": [
      "Line:  This is the 1st line.\n",
      "\n",
      "Line:  This is the 2nd line.\n",
      "\n",
      "Line:  This is the 3rd line.\n",
      "\n",
      "Line:  This will added to the end of the file.\n",
      "\n"
     ]
    }
   ],
   "source": [
    "with open(\"./File Handling/test.txt\", \"r\") as file:\n",
    "    for line in file.readlines():\n",
    "        print(\"Line: \", line)\n"
   ]
  },
  {
   "cell_type": "code",
   "execution_count": 59,
   "metadata": {},
   "outputs": [
    {
     "name": "stdout",
     "output_type": "stream",
     "text": [
      "['This is the 1st line.\\n', 'This is the 2nd line.\\n', 'This is the 3rd line.\\n', 'This will added to the end of the file.\\n']\n"
     ]
    }
   ],
   "source": [
    "try:\n",
    "    file = open(\"./File Handling/test.txt\", \"r+\")\n",
    "    file.write(\"This is the forth line.\\n\")\n",
    "    print(file.readlines())\n",
    "except e:\n",
    "    print(e)\n",
    "finally:\n",
    "    file.close()"
   ]
  },
  {
   "cell_type": "code",
   "execution_count": 55,
   "metadata": {},
   "outputs": [],
   "source": [
    "with open(\"./File Handling/test.txt\", \"a\") as file:\n",
    "    file.write(\"This will added to the end of the file.\\n\")\n"
   ]
  },
  {
   "cell_type": "code",
   "execution_count": 81,
   "metadata": {},
   "outputs": [
    {
     "name": "stdout",
     "output_type": "stream",
     "text": [
      "C\n",
      "B\n",
      "A\n",
      "3\n",
      "2\n",
      "1\n",
      "\n"
     ]
    }
   ],
   "source": [
    "list2 = [\"A\", \"B\", \"C\"]\n",
    "with open(\"./File Handling/task1.txt\", \"r+\") as f:\n",
    "    f.seek(0)\n",
    "    list1 = f.readlines()\n",
    "    list1 = sorted(list1, reverse=True)\n",
    "    list2 = sorted(list2, reverse=True)\n",
    "    list2 = list(map(lambda x: x + \"\\n\", list2))\n",
    "    f.seek(0)\n",
    "    f.write(\"\".join(list2 + list1))\n",
    "    f.seek(0)\n",
    "    print(\"\".join(f.readlines()))\n",
    "        "
   ]
  },
  {
   "cell_type": "code",
   "execution_count": 83,
   "metadata": {},
   "outputs": [
    {
     "name": "stdout",
     "output_type": "stream",
     "text": [
      "(160, 122, 3)\n"
     ]
    },
    {
     "data": {
      "text/plain": [
       "<matplotlib.image.AxesImage at 0xa6a89715f8>"
      ]
     },
     "execution_count": 83,
     "metadata": {},
     "output_type": "execute_result"
    },
    {
     "data": {
      "image/png": "[encoded data removed]",
      "text/plain": [
       "<Figure size 432x288 with 1 Axes>"
      ]
     },
     "metadata": {
      "needs_background": "light"
     },
     "output_type": "display_data"
    }
   ],
   "source": [
    "import matplotlib.pyplot as plt\n",
    "import matplotlib.image as mpimg\n",
    "\n",
    "img = mpimg.imread('./File Handling/images/quiad.jpg', format=\"jpg\")\n",
    "print(img.shape)\n",
    "plt.imshow(img)"
   ]
  },
  {
   "cell_type": "code",
   "execution_count": null,
   "metadata": {},
   "outputs": [],
   "source": []
  }
 ],
 "metadata": {
  "kernelspec": {
   "display_name": "Python 3",
   "language": "python",
   "name": "python3"
  },
  "language_info": {
   "codemirror_mode": {
    "name": "ipython",
    "version": 3
   },
   "file_extension": ".py",
   "mimetype": "text/x-python",
   "name": "python",
   "nbconvert_exporter": "python",
   "pygments_lexer": "ipython3",
   "version": "3.7.3"
  }
 },
 "nbformat": 4,
 "nbformat_minor": 2
}
