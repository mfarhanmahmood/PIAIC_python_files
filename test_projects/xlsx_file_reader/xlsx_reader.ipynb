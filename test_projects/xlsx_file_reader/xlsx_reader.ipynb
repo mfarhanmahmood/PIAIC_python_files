{
 "cells": [
  {
   "cell_type": "code",
   "execution_count": 4,
   "metadata": {},
   "outputs": [],
   "source": [
    "# Importing required libraries\n",
    "\n",
    "import os as os\n",
    "import pandas as pd"
   ]
  },
  {
   "cell_type": "code",
   "execution_count": 6,
   "metadata": {},
   "outputs": [],
   "source": [
    "# Creating dataFrame from excel file\n",
    "\n",
    "dirname = os.path.abspath('')\n",
    "relative_path = '.\\\\db\\\\PIAIC Islamabad Batch 3 Quarter 1 Final Grades_Results - Onsite.xlsx'\n",
    "file_errors_location = os.path.join(dirname, relative_path)\n",
    "df = pd.read_excel(file_errors_location)"
   ]
  },
  {
   "cell_type": "code",
   "execution_count": 8,
   "metadata": {},
   "outputs": [
    {
     "name": "stdout",
     "output_type": "stream",
     "text": [
      "Enter your roll no. (PIAIC00000): PIAIC56326\n",
      "    Rank  Overall Percentile Grade  Tests Missed Roll Number  \\\n",
      "25    22                  98     -             0  PIAIC56326   \n",
      "\n",
      "                       Name  \n",
      "25  Muhammad Farhan Mahmood  \n"
     ]
    }
   ],
   "source": [
    "roll_no = input(\"Enter your roll no. (PIAIC00000): \")\n",
    "print(df.loc[df['Roll Number'] == 'PIAIC56326'])"
   ]
  },
  {
   "cell_type": "code",
   "execution_count": null,
   "metadata": {},
   "outputs": [],
   "source": []
  }
 ],
 "metadata": {
  "kernelspec": {
   "display_name": "Python 3",
   "language": "python",
   "name": "python3"
  },
  "language_info": {
   "codemirror_mode": {
    "name": "ipython",
    "version": 3
   },
   "file_extension": ".py",
   "mimetype": "text/x-python",
   "name": "python",
   "nbconvert_exporter": "python",
   "pygments_lexer": "ipython3",
   "version": "3.7.3"
  }
 },
 "nbformat": 4,
 "nbformat_minor": 2
}
